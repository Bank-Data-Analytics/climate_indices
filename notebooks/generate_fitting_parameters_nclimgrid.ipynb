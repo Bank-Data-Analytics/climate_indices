{
 "cells": [
  {
   "cell_type": "code",
   "execution_count": 2,
   "metadata": {},
   "outputs": [],
   "source": [
    "import sys\n",
    "\n",
    "import matplotlib\n",
    "import numpy as np\n",
    "import xarray as xr\n",
    "\n",
    "climate_indices_home_path = \"/home/james/git/climate_indices\"\n",
    "if climate_indices_home_path not in sys.path:\n",
    "    sys.path.append(climate_indices_home_path)\n",
    "from climate_indices import compute, indices, utils\n",
    "\n",
    "%matplotlib inline"
   ]
  },
  {
   "cell_type": "code",
   "execution_count": 3,
   "metadata": {},
   "outputs": [],
   "source": [
    "ds = xr.open_dataset(\"/home/james/data/nclimgrid/nclimgrid_lowres_prcp.nc\")"
   ]
  },
  {
   "cell_type": "code",
   "execution_count": 4,
   "metadata": {},
   "outputs": [],
   "source": [
    "precip_var_name = \"prcp\""
   ]
  },
  {
   "cell_type": "code",
   "execution_count": 6,
   "metadata": {},
   "outputs": [],
   "source": [
    "da_prcp = ds[precip_var_name].transpose('lat', 'lon', 'time')"
   ]
  },
  {
   "cell_type": "code",
   "execution_count": 40,
   "metadata": {},
   "outputs": [],
   "source": [
    "initial_year = int(da_prcp['time'][0].dt.year)\n",
    "calibration_year_initial = 1900\n",
    "calibration_year_final = 2000\n",
    "period_times = 12\n",
    "total_lats = da_prcp.shape[0]\n",
    "total_lons = da_prcp.shape[1]\n",
    "fitting_shape = (total_lats, total_lons, period_times)\n",
    "scale = 3"
   ]
  },
  {
   "cell_type": "code",
   "execution_count": 11,
   "metadata": {},
   "outputs": [],
   "source": [
    "%%time\n",
    "alphas = np.full(shape=fitting_shape, fill_value=np.NaN)\n",
    "betas = np.full(shape=fitting_shape, fill_value=np.NaN)\n",
    "spi = np.full(shape=da_prcp.shape, fill_value=np.NaN)\n",
    "for lat_index in range(total_lats):\n",
    "    for lon_index in range(total_lons):\n",
    "\n",
    "        # get the values for the lat/lon grid cell\n",
    "        values = da_prcp[lat_index, lon_index]\n",
    "\n",
    "        # skip over this grid cell if all NaN values\n",
    "        if (np.ma.is_masked(values) and values.mask.all()) or np.all(np.isnan(values)):\n",
    "            continue\n",
    "\n",
    "        # convolve to scale\n",
    "        scaled_values = \\\n",
    "            compute.scale_values(\n",
    "                values,\n",
    "                scale=scale,\n",
    "                periodicity=compute.Periodicity.monthly,\n",
    "            )\n",
    "\n",
    "        # compute the fitting parameters on the scaled data\n",
    "        alphas[lat_index, lon_index], betas[lat_index, lon_index] = \\\n",
    "            compute.gamma_parameters(\n",
    "                scaled_values,\n",
    "                data_start_year=initial_year,\n",
    "                calibration_start_year=calibration_year_initial,\n",
    "                calibration_end_year=calibration_year_final,\n",
    "                periodicity=compute.Periodicity.monthly,\n",
    "            )\n",
    "        gamma_parameters = {\n",
    "            \"alphas\": alphas[lat_index, lon_index],\n",
    "            \"betas\": betas[lat_index, lon_index],\n",
    "        }\n",
    "        \n",
    "        # compute the SPI\n",
    "        spi[lat_index, lon_index] = \\\n",
    "            indices.spi(\n",
    "                values,\n",
    "                scale=scale,\n",
    "                distribution=indices.Distribution.gamma,\n",
    "                data_start_year=initial_year,\n",
    "                calibration_year_initial=calibration_year_initial,\n",
    "                calibration_year_final=calibration_year_final,\n",
    "                periodicity=compute.Periodicity.monthly,\n",
    "                fitting_params=gamma_parameters,\n",
    "            )"
   ]
  },
  {
   "cell_type": "code",
   "execution_count": 47,
   "metadata": {},
   "outputs": [],
   "source": [
    "spi_var_name = f\"spi_gamma_{str(scale).zfill(2)}\""
   ]
  },
  {
   "cell_type": "code",
   "execution_count": 45,
   "metadata": {},
   "outputs": [],
   "source": [
    "ds_spi = xr.Dataset(\n",
    "    {\n",
    "        spi_var_name: (da_prcp.dims, spi),\n",
    "    },\n",
    "    coords=da_prcp.coords,\n",
    ")"
   ]
  },
  {
   "cell_type": "code",
   "execution_count": 48,
   "metadata": {},
   "outputs": [
    {
     "data": {
      "text/plain": [
       "<matplotlib.collections.QuadMesh at 0x7f43998d53c8>"
      ]
     },
     "execution_count": 48,
     "metadata": {},
     "output_type": "execute_result"
    },
    {
     "data": {
      "image/png": "[encoded data removed]",
      "text/plain": [
       "<Figure size 432x288 with 2 Axes>"
      ]
     },
     "metadata": {
      "needs_background": "light"
     },
     "output_type": "display_data"
    }
   ],
   "source": [
    "ds_spi[spi_var_name].isel(time=500).plot()"
   ]
  },
  {
   "cell_type": "code",
   "execution_count": 46,
   "metadata": {},
   "outputs": [
    {
     "data": {
      "text/plain": [
       "<xarray.Dataset>\n",
       "Dimensions:       (lat: 38, lon: 87, time: 1466)\n",
       "Coordinates:\n",
       "  * lat           (lat) float32 24.5625 25.229166 ... 48.5625 49.229168\n",
       "  * lon           (lon) float32 -124.6875 -124.020836 ... -68.020836 -67.354164\n",
       "  * time          (time) datetime64[ns] 1895-01-01 1895-02-01 ... 2017-02-01\n",
       "Data variables:\n",
       "    spi_gamma_03  (lat, lon, time) float64 nan nan nan nan ... nan nan nan nan"
      ]
     },
     "execution_count": 46,
     "metadata": {},
     "output_type": "execute_result"
    }
   ],
   "source": [
    "ds_spi"
   ]
  },
  {
   "cell_type": "code",
   "execution_count": 23,
   "metadata": {},
   "outputs": [],
   "source": [
    "ds_gammas = xr.Dataset(\n",
    "    {\n",
    "        \"alpha\": ((\"lat\", \"lon\", \"month\"), alphas),\n",
    "        \"beta\": ((\"lat\", \"lon\", \"month\"), betas),\n",
    "    },\n",
    "    coords={\"lat\": ds.lat, \"lon\": ds.lon, \"month\": range(12)},\n",
    ")"
   ]
  },
  {
   "cell_type": "code",
   "execution_count": 24,
   "metadata": {},
   "outputs": [
    {
     "data": {
      "text/plain": [
       "<xarray.Dataset>\n",
       "Dimensions:  (lat: 38, lon: 87, month: 12)\n",
       "Coordinates:\n",
       "  * lat      (lat) float32 24.5625 25.229166 25.895834 ... 48.5625 49.229168\n",
       "  * lon      (lon) float32 -124.6875 -124.020836 ... -68.020836 -67.354164\n",
       "  * month    (month) int64 0 1 2 3 4 5 6 7 8 9 10 11\n",
       "Data variables:\n",
       "    alpha    (lat, lon, month) float64 nan nan nan nan nan ... nan nan nan nan\n",
       "    beta     (lat, lon, month) float64 nan nan nan nan nan ... nan nan nan nan"
      ]
     },
     "execution_count": 24,
     "metadata": {},
     "output_type": "execute_result"
    }
   ],
   "source": [
    "ds_gammas"
   ]
  },
  {
   "cell_type": "code",
   "execution_count": 26,
   "metadata": {},
   "outputs": [
    {
     "data": {
      "text/plain": [
       "<matplotlib.collections.QuadMesh at 0x7f439e066048>"
      ]
     },
     "execution_count": 26,
     "metadata": {},
     "output_type": "execute_result"
    },
    {
     "data": {
      "image/png": "[encoded data removed]",
      "text/plain": [
       "<Figure size 432x288 with 2 Axes>"
      ]
     },
     "metadata": {
      "needs_background": "light"
     },
     "output_type": "display_data"
    }
   ],
   "source": [
    "ds_gammas.alpha.isel(month=4).plot()"
   ]
  },
  {
   "cell_type": "code",
   "execution_count": 49,
   "metadata": {},
   "outputs": [],
   "source": [
    "ds_spi[spi_var_name].attrs = {\n",
    "    'valid_min': -3.09,\n",
    "    'valid_max': 3.09,\n",
    "    'long_name': f'{scale}-month SPI(gamma)',\n",
    "    'calibration_year_initial': calibration_year_initial,\n",
    "    'calibration_year_final': calibration_year_final,\n",
    "}"
   ]
  },
  {
   "cell_type": "code",
   "execution_count": 50,
   "metadata": {},
   "outputs": [],
   "source": [
    "attrs_to_copy = [\n",
    "    'Conventions',\n",
    "    'ncei_template_version',\n",
    "    'naming_authority',\n",
    "    'standard_name_vocabulary',\n",
    "    'institution',\n",
    "    'geospatial_lat_min',\n",
    "    'geospatial_lat_max',\n",
    "    'geospatial_lon_min',\n",
    "    'geospatial_lon_max',\n",
    "    'geospatial_lat_units',\n",
    "    'geospatial_lon_units',\n",
    "]\n",
    "global_attrs = {key: value for (key, value) in ds.attrs.items() if key in attrs_to_copy}\n",
    "ds_spi.attrs = global_attrs\n",
    "ds_gammas.attrs = global_attrs"
   ]
  },
  {
   "cell_type": "code",
   "execution_count": 38,
   "metadata": {},
   "outputs": [
    {
     "data": {
      "text/plain": [
       "<xarray.Dataset>\n",
       "Dimensions:  (lat: 38, lon: 87, month: 12)\n",
       "Coordinates:\n",
       "  * lat      (lat) float32 24.5625 25.229166 25.895834 ... 48.5625 49.229168\n",
       "  * lon      (lon) float32 -124.6875 -124.020836 ... -68.020836 -67.354164\n",
       "  * month    (month) int64 0 1 2 3 4 5 6 7 8 9 10 11\n",
       "Data variables:\n",
       "    alpha    (lat, lon, month) float64 nan nan nan nan nan ... nan nan nan nan\n",
       "    beta     (lat, lon, month) float64 nan nan nan nan nan ... nan nan nan nan\n",
       "Attributes:\n",
       "    Conventions:               CF-1.6, ACDD-1.3\n",
       "    ncei_template_version:     NCEI_NetCDF_Grid_Template_v2.0\n",
       "    naming_authority:          gov.noaa.ncei\n",
       "    standard_name_vocabulary:  Standard Name Table v35\n",
       "    institution:               National Centers for Environmental Information...\n",
       "    geospatial_lat_min:        24.5625\n",
       "    geospatial_lat_max:        49.354168\n",
       "    geospatial_lon_min:        -124.6875\n",
       "    geospatial_lon_max:        -67.020836\n",
       "    geospatial_lat_units:      degrees_north\n",
       "    geospatial_lon_units:      degrees_east"
      ]
     },
     "execution_count": 38,
     "metadata": {},
     "output_type": "execute_result"
    }
   ],
   "source": [
    "ds_gammas"
   ]
  },
  {
   "cell_type": "code",
   "execution_count": 35,
   "metadata": {},
   "outputs": [],
   "source": [
    "ds_gammas.alpha.attrs = {\n",
    "    'description': 'shape parameter of the gamma distribution (also referred to as the concentration)',\n",
    "    'notes': f'computed from the {scale}-month scaled values'\n",
    "}\n",
    "ds_gammas.beta.attrs = {\n",
    "    'description': '1 / scale of the distribution (also referred to as the rate)',\n",
    "}"
   ]
  },
  {
   "cell_type": "code",
   "execution_count": 36,
   "metadata": {},
   "outputs": [
    {
     "data": {
      "text/plain": [
       "<xarray.Dataset>\n",
       "Dimensions:  (lat: 38, lon: 87, month: 12)\n",
       "Coordinates:\n",
       "  * lat      (lat) float32 24.5625 25.229166 25.895834 ... 48.5625 49.229168\n",
       "  * lon      (lon) float32 -124.6875 -124.020836 ... -68.020836 -67.354164\n",
       "  * month    (month) int64 0 1 2 3 4 5 6 7 8 9 10 11\n",
       "Data variables:\n",
       "    alpha    (lat, lon, month) float64 nan nan nan nan nan ... nan nan nan nan\n",
       "    beta     (lat, lon, month) float64 nan nan nan nan nan ... nan nan nan nan\n",
       "Attributes:\n",
       "    Conventions:               CF-1.6, ACDD-1.3\n",
       "    ncei_template_version:     NCEI_NetCDF_Grid_Template_v2.0\n",
       "    naming_authority:          gov.noaa.ncei\n",
       "    standard_name_vocabulary:  Standard Name Table v35\n",
       "    institution:               National Centers for Environmental Information...\n",
       "    geospatial_lat_min:        24.5625\n",
       "    geospatial_lat_max:        49.354168\n",
       "    geospatial_lon_min:        -124.6875\n",
       "    geospatial_lon_max:        -67.020836\n",
       "    geospatial_lat_units:      degrees_north\n",
       "    geospatial_lon_units:      degrees_east"
      ]
     },
     "execution_count": 36,
     "metadata": {},
     "output_type": "execute_result"
    }
   ],
   "source": [
    "ds_gammas"
   ]
  },
  {
   "cell_type": "code",
   "execution_count": 37,
   "metadata": {},
   "outputs": [
    {
     "data": {
      "text/plain": [
       "<xarray.DataArray 'alpha' (lat: 38, lon: 87, month: 12)>\n",
       "array([[[nan, nan, ..., nan, nan],\n",
       "        [nan, nan, ..., nan, nan],\n",
       "        ...,\n",
       "        [nan, nan, ..., nan, nan],\n",
       "        [nan, nan, ..., nan, nan]],\n",
       "\n",
       "       [[nan, nan, ..., nan, nan],\n",
       "        [nan, nan, ..., nan, nan],\n",
       "        ...,\n",
       "        [nan, nan, ..., nan, nan],\n",
       "        [nan, nan, ..., nan, nan]],\n",
       "\n",
       "       ...,\n",
       "\n",
       "       [[nan, nan, ..., nan, nan],\n",
       "        [nan, nan, ..., nan, nan],\n",
       "        ...,\n",
       "        [nan, nan, ..., nan, nan],\n",
       "        [nan, nan, ..., nan, nan]],\n",
       "\n",
       "       [[nan, nan, ..., nan, nan],\n",
       "        [nan, nan, ..., nan, nan],\n",
       "        ...,\n",
       "        [nan, nan, ..., nan, nan],\n",
       "        [nan, nan, ..., nan, nan]]])\n",
       "Coordinates:\n",
       "  * lat      (lat) float32 24.5625 25.229166 25.895834 ... 48.5625 49.229168\n",
       "  * lon      (lon) float32 -124.6875 -124.020836 ... -68.020836 -67.354164\n",
       "  * month    (month) int64 0 1 2 3 4 5 6 7 8 9 10 11\n",
       "Attributes:\n",
       "    description:  shape parameter of the gamma distribution (also referred to..."
      ]
     },
     "execution_count": 37,
     "metadata": {},
     "output_type": "execute_result"
    }
   ],
   "source": [
    "ds_gammas.alpha"
   ]
  },
  {
   "cell_type": "code",
   "execution_count": null,
   "metadata": {},
   "outputs": [],
   "source": []
  }
 ],
 "metadata": {
  "kernelspec": {
   "display_name": "Python 3",
   "language": "python",
   "name": "python3"
  },
  "language_info": {
   "codemirror_mode": {
    "name": "ipython",
    "version": 3
   },
   "file_extension": ".py",
   "mimetype": "text/x-python",
   "name": "python",
   "nbconvert_exporter": "python",
   "pygments_lexer": "ipython3",
   "version": "3.7.3"
  }
 },
 "nbformat": 4,
 "nbformat_minor": 2
}
