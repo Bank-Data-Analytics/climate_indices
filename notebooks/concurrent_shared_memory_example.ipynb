{
 "cells": [
  {
   "cell_type": "code",
   "execution_count": 15,
   "metadata": {},
   "outputs": [],
   "source": [
    "import concurrent.futures\n",
    "from multiprocessing import shared_memory\n",
    "import sys\n",
    "from typing import Dict\n",
    "\n",
    "import numpy as np"
   ]
  },
  {
   "cell_type": "code",
   "execution_count": 16,
   "metadata": {},
   "outputs": [
    {
     "data": {
      "text/plain": [
       "(2, 2, 3)"
      ]
     },
     "execution_count": 16,
     "metadata": {},
     "output_type": "execute_result"
    }
   ],
   "source": [
    "# create an array that can be used to represent a 2x2 cell lat/lon map with 3 times\n",
    "prcp = np.array([[[1, 6, 5], [3, 2, 7]], [[8, 4., 6.], [9, 4, 2]]])\n",
    "prcp.shape"
   ]
  },
  {
   "cell_type": "code",
   "execution_count": 17,
   "metadata": {},
   "outputs": [],
   "source": [
    "# create a shared memory array for precipitation, copy the precipitation data\n",
    "# into it, then replace the original underlying array with the shared memory\n",
    "shm_prcp = shared_memory.SharedMemory(create=True, size=prcp.data.nbytes)\n",
    "shared_prcp = np.ndarray(prcp.shape, dtype=prcp.dtype, buffer=shm_prcp.buf)\n",
    "shared_prcp[:,:,:] = prcp[:,:,:]\n",
    "shm_name_prcp = shm_prcp.name"
   ]
  },
  {
   "cell_type": "code",
   "execution_count": 18,
   "metadata": {},
   "outputs": [],
   "source": [
    "def add_average(ary: np.ndarray) -> np.ndarray:\n",
    "    return ary + np.mean(ary)"
   ]
  },
  {
   "cell_type": "code",
   "execution_count": 19,
   "metadata": {},
   "outputs": [],
   "source": [
    "def shm_add_average(\n",
    "    arguments: Dict,\n",
    "):\n",
    "    existing_shm = shared_memory.SharedMemory(name=arguments['shm_name'])\n",
    "    shm_ary = np.ndarray(shape=arguments['shape'], dtype=arguments['dtype'], buffer=existing_shm.buf)\n",
    "    shm_ary[arguments['lat_index'], arguments['lon_index']] = \\\n",
    "        add_average(shm_ary[arguments['lat_index'], arguments['lon_index']])"
   ]
  },
  {
   "cell_type": "code",
   "execution_count": 20,
   "metadata": {},
   "outputs": [
    {
     "name": "stdout",
     "output_type": "stream",
     "text": [
      "CPU times: user 11.3 ms, sys: 13.6 ms, total: 24.9 ms\n",
      "Wall time: 34.8 ms\n"
     ]
    }
   ],
   "source": [
    "%%time\n",
    "arguments_list = []\n",
    "for lat_index in range(prcp.shape[0]):\n",
    "    for lon_index in range(prcp.shape[0]):\n",
    "\n",
    "        arguments = {\n",
    "            'lat_index': lat_index,\n",
    "            'lon_index': lon_index,\n",
    "            'shm_name': shm_name_prcp,\n",
    "            'dtype': shared_prcp.dtype,\n",
    "            'shape': shared_prcp.shape\n",
    "        }\n",
    "        arguments_list.append(arguments)\n",
    "\n",
    "# use a ProcessPoolExecutor to download the images in parallel\n",
    "with concurrent.futures.ProcessPoolExecutor() as executor:\n",
    "\n",
    "    # use the executor to map the download function to the iterable of arguments\n",
    "    executor.map(shm_add_average, arguments_list)"
   ]
  },
  {
   "cell_type": "code",
   "execution_count": 21,
   "metadata": {},
   "outputs": [
    {
     "data": {
      "text/plain": [
       "array([[[ 5., 10.,  9.],\n",
       "        [ 7.,  6., 11.]],\n",
       "\n",
       "       [[14., 10., 12.],\n",
       "        [14.,  9.,  7.]]])"
      ]
     },
     "execution_count": 21,
     "metadata": {},
     "output_type": "execute_result"
    }
   ],
   "source": [
    "shared_prcp"
   ]
  },
  {
   "cell_type": "code",
   "execution_count": 22,
   "metadata": {},
   "outputs": [
    {
     "data": {
      "text/plain": [
       "array([[[1., 6., 5.],\n",
       "        [3., 2., 7.]],\n",
       "\n",
       "       [[8., 4., 6.],\n",
       "        [9., 4., 2.]]])"
      ]
     },
     "execution_count": 22,
     "metadata": {},
     "output_type": "execute_result"
    }
   ],
   "source": [
    "prcp"
   ]
  },
  {
   "cell_type": "code",
   "execution_count": 23,
   "metadata": {},
   "outputs": [
    {
     "name": "stdout",
     "output_type": "stream",
     "text": [
      "CPU times: user 233 µs, sys: 88 µs, total: 321 µs\n",
      "Wall time: 199 µs\n"
     ]
    },
    {
     "data": {
      "text/plain": [
       "array([[[ 5., 10.,  9.],\n",
       "        [ 7.,  6., 11.]],\n",
       "\n",
       "       [[14., 10., 12.],\n",
       "        [14.,  9.,  7.]]])"
      ]
     },
     "execution_count": 23,
     "metadata": {},
     "output_type": "execute_result"
    }
   ],
   "source": [
    "%%time\n",
    "added_ary = prcp.copy()\n",
    "arguments_list = []\n",
    "for lat_index in range(prcp.shape[0]):\n",
    "    for lon_index in range(prcp.shape[0]):\n",
    "        added_ary[lat_index, lon_index] = add_average(prcp[lat_index, lon_index])\n",
    "added_ary  "
   ]
  },
  {
   "cell_type": "code",
   "execution_count": 24,
   "metadata": {},
   "outputs": [
    {
     "data": {
      "text/plain": [
       "True"
      ]
     },
     "execution_count": 24,
     "metadata": {},
     "output_type": "execute_result"
    }
   ],
   "source": [
    "np.allclose(shared_prcp, added_ary)"
   ]
  },
  {
   "cell_type": "code",
   "execution_count": null,
   "metadata": {},
   "outputs": [],
   "source": []
  }
 ],
 "metadata": {
  "kernelspec": {
   "display_name": "Python 3",
   "language": "python",
   "name": "python3"
  },
  "language_info": {
   "codemirror_mode": {
    "name": "ipython",
    "version": 3
   },
   "file_extension": ".py",
   "mimetype": "text/x-python",
   "name": "python",
   "nbconvert_exporter": "python",
   "pygments_lexer": "ipython3",
   "version": "3.8.0"
  }
 },
 "nbformat": 4,
 "nbformat_minor": 2
}
