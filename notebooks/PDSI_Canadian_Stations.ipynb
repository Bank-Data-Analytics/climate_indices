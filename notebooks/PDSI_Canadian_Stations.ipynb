{
 "cells": [
  {
   "cell_type": "markdown",
   "metadata": {},
   "source": [
    "# Self-calibrated PDSI computation for Canadian stations\n",
    "\n",
    "We will compute the self-calibrated PDSI as well as the associated PDSI, PHDI, PMDI, and Z-Index values for a time series of temperature and precipitation data from a Canadian weather station.  "
   ]
  },
  {
   "cell_type": "code",
   "execution_count": 132,
   "metadata": {},
   "outputs": [],
   "source": [
    "import numpy as np\n",
    "import pandas as pd\n",
    "from climate_indices import indices"
   ]
  },
  {
   "cell_type": "markdown",
   "metadata": {},
   "source": [
    "Read station metadata from a comma-separated file. Columns are station ID, station name, longitude, latitude, and available water capacity."
   ]
  },
  {
   "cell_type": "code",
   "execution_count": 117,
   "metadata": {},
   "outputs": [
    {
     "name": "stdout",
     "output_type": "stream",
     "text": [
      "Station ID: 1012475,  latitide: 48.42,  AWC: 123\n"
     ]
    }
   ],
   "source": [
    "metadata = pd.read_csv(\"data/1012475.metadata\")\n",
    "station_id = metadata[\"Station\"][0]\n",
    "lat = metadata[\"Lat\"][0]\n",
    "awc = metadata[\"AWCmm\"][0]\n",
    "print(f\"Station ID: {station_id},  latitide: {lat},  AWC: {awc}\")"
   ]
  },
  {
   "cell_type": "markdown",
   "metadata": {},
   "source": [
    "Read climatology data from a space-delimited file. Columns are station ID, year, month, day, tmMax, tmin, and precipitation."
   ]
  },
  {
   "cell_type": "code",
   "execution_count": 118,
   "metadata": {
    "scrolled": true
   },
   "outputs": [
    {
     "data": {
      "text/html": [
       "<div>\n",
       "<style scoped>\n",
       "    .dataframe tbody tr th:only-of-type {\n",
       "        vertical-align: middle;\n",
       "    }\n",
       "\n",
       "    .dataframe tbody tr th {\n",
       "        vertical-align: top;\n",
       "    }\n",
       "\n",
       "    .dataframe thead th {\n",
       "        text-align: right;\n",
       "    }\n",
       "</style>\n",
       "<table border=\"1\" class=\"dataframe\">\n",
       "  <thead>\n",
       "    <tr style=\"text-align: right;\">\n",
       "      <th></th>\n",
       "      <th>station_id</th>\n",
       "      <th>year</th>\n",
       "      <th>month</th>\n",
       "      <th>day</th>\n",
       "      <th>tmax</th>\n",
       "      <th>tmin</th>\n",
       "      <th>prcp</th>\n",
       "    </tr>\n",
       "  </thead>\n",
       "  <tbody>\n",
       "    <tr>\n",
       "      <th>0</th>\n",
       "      <td>1012475</td>\n",
       "      <td>1950</td>\n",
       "      <td>1</td>\n",
       "      <td>1</td>\n",
       "      <td>-0.4</td>\n",
       "      <td>-5.4</td>\n",
       "      <td>4.6</td>\n",
       "    </tr>\n",
       "    <tr>\n",
       "      <th>1</th>\n",
       "      <td>1012475</td>\n",
       "      <td>1950</td>\n",
       "      <td>1</td>\n",
       "      <td>2</td>\n",
       "      <td>-5.4</td>\n",
       "      <td>-8.9</td>\n",
       "      <td>3.1</td>\n",
       "    </tr>\n",
       "    <tr>\n",
       "      <th>2</th>\n",
       "      <td>1012475</td>\n",
       "      <td>1950</td>\n",
       "      <td>1</td>\n",
       "      <td>3</td>\n",
       "      <td>-3.6</td>\n",
       "      <td>-9.5</td>\n",
       "      <td>5.9</td>\n",
       "    </tr>\n",
       "    <tr>\n",
       "      <th>3</th>\n",
       "      <td>1012475</td>\n",
       "      <td>1950</td>\n",
       "      <td>1</td>\n",
       "      <td>4</td>\n",
       "      <td>-1.1</td>\n",
       "      <td>-7.0</td>\n",
       "      <td>1.6</td>\n",
       "    </tr>\n",
       "    <tr>\n",
       "      <th>4</th>\n",
       "      <td>1012475</td>\n",
       "      <td>1950</td>\n",
       "      <td>1</td>\n",
       "      <td>5</td>\n",
       "      <td>2.8</td>\n",
       "      <td>-5.5</td>\n",
       "      <td>6.9</td>\n",
       "    </tr>\n",
       "  </tbody>\n",
       "</table>\n",
       "</div>"
      ],
      "text/plain": [
       "   station_id  year  month  day  tmax  tmin  prcp\n",
       "0     1012475  1950      1    1  -0.4  -5.4   4.6\n",
       "1     1012475  1950      1    2  -5.4  -8.9   3.1\n",
       "2     1012475  1950      1    3  -3.6  -9.5   5.9\n",
       "3     1012475  1950      1    4  -1.1  -7.0   1.6\n",
       "4     1012475  1950      1    5   2.8  -5.5   6.9"
      ]
     },
     "execution_count": 118,
     "metadata": {},
     "output_type": "execute_result"
    }
   ],
   "source": [
    "column_names = [\"station_id\", \"year\", \"month\", \"day\", \"tmax\", \"tmin\", \"prcp\"]\n",
    "station_data = pd.read_csv(\"data/1012475.dat\", header=None, names=column_names, delim_whitespace=True)\n",
    "station_data.head()"
   ]
  },
  {
   "cell_type": "markdown",
   "metadata": {},
   "source": [
    "Next we'll convert the year, month, and day columns into a datetime, drop those columns, and set the new datetime as the index."
   ]
  },
  {
   "cell_type": "code",
   "execution_count": 119,
   "metadata": {
    "scrolled": true
   },
   "outputs": [
    {
     "data": {
      "text/html": [
       "<div>\n",
       "<style scoped>\n",
       "    .dataframe tbody tr th:only-of-type {\n",
       "        vertical-align: middle;\n",
       "    }\n",
       "\n",
       "    .dataframe tbody tr th {\n",
       "        vertical-align: top;\n",
       "    }\n",
       "\n",
       "    .dataframe thead th {\n",
       "        text-align: right;\n",
       "    }\n",
       "</style>\n",
       "<table border=\"1\" class=\"dataframe\">\n",
       "  <thead>\n",
       "    <tr style=\"text-align: right;\">\n",
       "      <th></th>\n",
       "      <th>station_id</th>\n",
       "      <th>tmax</th>\n",
       "      <th>tmin</th>\n",
       "      <th>prcp</th>\n",
       "    </tr>\n",
       "    <tr>\n",
       "      <th>date</th>\n",
       "      <th></th>\n",
       "      <th></th>\n",
       "      <th></th>\n",
       "      <th></th>\n",
       "    </tr>\n",
       "  </thead>\n",
       "  <tbody>\n",
       "    <tr>\n",
       "      <th>1950-01-01</th>\n",
       "      <td>1012475</td>\n",
       "      <td>-0.4</td>\n",
       "      <td>-5.4</td>\n",
       "      <td>4.6</td>\n",
       "    </tr>\n",
       "    <tr>\n",
       "      <th>1950-01-02</th>\n",
       "      <td>1012475</td>\n",
       "      <td>-5.4</td>\n",
       "      <td>-8.9</td>\n",
       "      <td>3.1</td>\n",
       "    </tr>\n",
       "    <tr>\n",
       "      <th>1950-01-03</th>\n",
       "      <td>1012475</td>\n",
       "      <td>-3.6</td>\n",
       "      <td>-9.5</td>\n",
       "      <td>5.9</td>\n",
       "    </tr>\n",
       "    <tr>\n",
       "      <th>1950-01-04</th>\n",
       "      <td>1012475</td>\n",
       "      <td>-1.1</td>\n",
       "      <td>-7.0</td>\n",
       "      <td>1.6</td>\n",
       "    </tr>\n",
       "    <tr>\n",
       "      <th>1950-01-05</th>\n",
       "      <td>1012475</td>\n",
       "      <td>2.8</td>\n",
       "      <td>-5.5</td>\n",
       "      <td>6.9</td>\n",
       "    </tr>\n",
       "  </tbody>\n",
       "</table>\n",
       "</div>"
      ],
      "text/plain": [
       "            station_id  tmax  tmin  prcp\n",
       "date                                    \n",
       "1950-01-01     1012475  -0.4  -5.4   4.6\n",
       "1950-01-02     1012475  -5.4  -8.9   3.1\n",
       "1950-01-03     1012475  -3.6  -9.5   5.9\n",
       "1950-01-04     1012475  -1.1  -7.0   1.6\n",
       "1950-01-05     1012475   2.8  -5.5   6.9"
      ]
     },
     "execution_count": 119,
     "metadata": {},
     "output_type": "execute_result"
    }
   ],
   "source": [
    "station_data[\"date\"] = station_data[[\"year\", \"month\", \"day\"]].apply(lambda s : pd.datetime(*s), axis = 1)\n",
    "station_data.drop(columns=[\"year\", \"month\", \"day\"], inplace=True)\n",
    "station_data.set_index(\"date\", inplace=True)\n",
    "station_data.head()"
   ]
  },
  {
   "cell_type": "markdown",
   "metadata": {},
   "source": [
    "Get the start and end dates."
   ]
  },
  {
   "cell_type": "code",
   "execution_count": 134,
   "metadata": {},
   "outputs": [
    {
     "name": "stdout",
     "output_type": "stream",
     "text": [
      "Start: 1950\n",
      "End:   2019\n"
     ]
    }
   ],
   "source": [
    "start_year = station_data.index[0].year\n",
    "end_year = station_data.index[-1].year\n",
    "print(f\"Start: {start_year}\\nEnd:   {end_year}\")"
   ]
  },
  {
   "cell_type": "markdown",
   "metadata": {},
   "source": [
    "We'll now take the average of the `tmin` and `tmax` columns to get a daily average temperature Series."
   ]
  },
  {
   "cell_type": "code",
   "execution_count": 126,
   "metadata": {},
   "outputs": [
    {
     "data": {
      "text/plain": [
       "date\n",
       "1950-01-01   -2.90\n",
       "1950-01-02   -7.15\n",
       "1950-01-03   -6.55\n",
       "1950-01-04   -4.05\n",
       "1950-01-05   -1.35\n",
       "dtype: float64"
      ]
     },
     "execution_count": 126,
     "metadata": {},
     "output_type": "execute_result"
    }
   ],
   "source": [
    "tavg_series = ((station_data[\"tmin\"] + station_data[\"tmax\"]) / 2)\n",
    "tavg_series.head()"
   ]
  },
  {
   "cell_type": "markdown",
   "metadata": {},
   "source": [
    "We resample the daily average temperature values as monthly, and then get the mean in order to have monthly average temperatures."
   ]
  },
  {
   "cell_type": "code",
   "execution_count": 130,
   "metadata": {},
   "outputs": [
    {
     "name": "stdout",
     "output_type": "stream",
     "text": [
      "tavg: type=<class 'numpy.ndarray'>, shape=(830,), dtype=float64\n"
     ]
    }
   ],
   "source": [
    "# get the monthly average temperatures as a numpy array\n",
    "tavg = tavg_series.resample('1M').mean().values\n",
    "print(f\"tavg: type={type(tavg)}, shape={tavg.shape}, dtype={tavg.dtype}\")"
   ]
  },
  {
   "cell_type": "markdown",
   "metadata": {},
   "source": [
    "We resample the daily precipitation values as monthly, and then get the sum in order to have monthly total precipitation."
   ]
  },
  {
   "cell_type": "code",
   "execution_count": 129,
   "metadata": {},
   "outputs": [
    {
     "name": "stdout",
     "output_type": "stream",
     "text": [
      "prcp: type=<class 'numpy.ndarray'>, shape=(830,), dtype=float64\n"
     ]
    }
   ],
   "source": [
    "# get the monthly total precipitation as a numpy array\n",
    "prcp = station_data[\"prcp\"].resample('1M').sum().values\n",
    "print(f\"prcp: type={type(prcp)}, shape={prcp.shape}, dtype={prcp.dtype}\")"
   ]
  },
  {
   "cell_type": "markdown",
   "metadata": {},
   "source": [
    "We can now compute PET."
   ]
  },
  {
   "cell_type": "code",
   "execution_count": 133,
   "metadata": {},
   "outputs": [
    {
     "data": {
      "text/plain": [
       "(830,)"
      ]
     },
     "execution_count": 133,
     "metadata": {},
     "output_type": "execute_result"
    }
   ],
   "source": [
    "pet = indices.pet(tavg, lat, start_year)\n",
    "pet.shape"
   ]
  },
  {
   "cell_type": "markdown",
   "metadata": {},
   "source": [
    "We can now compute self-calibrated PDSI, \"traditional\" PDSI, PHDI, PMDI, and Z-Index.\n",
    "\n",
    "Since the precipitation, PET, and AWC values are all in millimeters we'll first multiply these by `0.0393701` in order to convert the units to inches, since this is the unit required for the `climate_indices.indices.scpdsi` function."
   ]
  },
  {
   "cell_type": "code",
   "execution_count": 139,
   "metadata": {},
   "outputs": [],
   "source": [
    "prcp = prcp * 0.0393701\n",
    "pet = pet * 0.0393701\n",
    "awc = awc * 0.0393701\n",
    "scpdsi, pdsi, phdi, pmdi, zindex = indices.scpdsi(prcp, pet, awc, start_year, start_year, end_year)"
   ]
  }
 ],
 "metadata": {
  "kernelspec": {
   "display_name": "Python 3",
   "language": "python",
   "name": "python3"
  },
  "language_info": {
   "codemirror_mode": {
    "name": "ipython",
    "version": 3
   },
   "file_extension": ".py",
   "mimetype": "text/x-python",
   "name": "python",
   "nbconvert_exporter": "python",
   "pygments_lexer": "ipython3",
   "version": "3.7.2"
  }
 },
 "nbformat": 4,
 "nbformat_minor": 2
}
