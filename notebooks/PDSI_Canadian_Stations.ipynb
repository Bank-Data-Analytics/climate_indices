{
 "cells": [
  {
   "cell_type": "markdown",
   "metadata": {},
   "source": [
    "# Self-calibrated PDSI computation for Canadian stations\n",
    "\n",
    "We will compute the self-calibrated PDSI as well as the associated PDSI, PHDI, PMDI, and Z-Index values for a time series of temperature and precipitation data from a Canadian weather station.  "
   ]
  },
  {
   "cell_type": "code",
   "execution_count": 155,
   "metadata": {},
   "outputs": [],
   "source": [
    "import bokeh.io\n",
    "from bokeh.plotting import figure, show\n",
    "import numpy as np\n",
    "import pandas as pd\n",
    "\n",
    "from climate_indices import indices"
   ]
  },
  {
   "cell_type": "markdown",
   "metadata": {},
   "source": [
    "Read station metadata from a comma-separated file. Columns are station ID, station name, longitude, latitude, and available water capacity."
   ]
  },
  {
   "cell_type": "code",
   "execution_count": 117,
   "metadata": {},
   "outputs": [
    {
     "name": "stdout",
     "output_type": "stream",
     "text": [
      "Station ID: 1012475,  latitide: 48.42,  AWC: 123\n"
     ]
    }
   ],
   "source": [
    "metadata = pd.read_csv(\"data/1012475.metadata\")\n",
    "station_id = metadata[\"Station\"][0]\n",
    "lat = metadata[\"Lat\"][0]\n",
    "awc = metadata[\"AWCmm\"][0]\n",
    "print(f\"Station ID: {station_id},  latitide: {lat},  AWC: {awc}\")"
   ]
  },
  {
   "cell_type": "markdown",
   "metadata": {},
   "source": [
    "Read climatology data from a space-delimited file. Columns are station ID, year, month, day, tmMax, tmin, and precipitation."
   ]
  },
  {
   "cell_type": "code",
   "execution_count": 118,
   "metadata": {
    "scrolled": true
   },
   "outputs": [
    {
     "data": {
      "text/html": [
       "<div>\n",
       "<style scoped>\n",
       "    .dataframe tbody tr th:only-of-type {\n",
       "        vertical-align: middle;\n",
       "    }\n",
       "\n",
       "    .dataframe tbody tr th {\n",
       "        vertical-align: top;\n",
       "    }\n",
       "\n",
       "    .dataframe thead th {\n",
       "        text-align: right;\n",
       "    }\n",
       "</style>\n",
       "<table border=\"1\" class=\"dataframe\">\n",
       "  <thead>\n",
       "    <tr style=\"text-align: right;\">\n",
       "      <th></th>\n",
       "      <th>station_id</th>\n",
       "      <th>year</th>\n",
       "      <th>month</th>\n",
       "      <th>day</th>\n",
       "      <th>tmax</th>\n",
       "      <th>tmin</th>\n",
       "      <th>prcp</th>\n",
       "    </tr>\n",
       "  </thead>\n",
       "  <tbody>\n",
       "    <tr>\n",
       "      <th>0</th>\n",
       "      <td>1012475</td>\n",
       "      <td>1950</td>\n",
       "      <td>1</td>\n",
       "      <td>1</td>\n",
       "      <td>-0.4</td>\n",
       "      <td>-5.4</td>\n",
       "      <td>4.6</td>\n",
       "    </tr>\n",
       "    <tr>\n",
       "      <th>1</th>\n",
       "      <td>1012475</td>\n",
       "      <td>1950</td>\n",
       "      <td>1</td>\n",
       "      <td>2</td>\n",
       "      <td>-5.4</td>\n",
       "      <td>-8.9</td>\n",
       "      <td>3.1</td>\n",
       "    </tr>\n",
       "    <tr>\n",
       "      <th>2</th>\n",
       "      <td>1012475</td>\n",
       "      <td>1950</td>\n",
       "      <td>1</td>\n",
       "      <td>3</td>\n",
       "      <td>-3.6</td>\n",
       "      <td>-9.5</td>\n",
       "      <td>5.9</td>\n",
       "    </tr>\n",
       "    <tr>\n",
       "      <th>3</th>\n",
       "      <td>1012475</td>\n",
       "      <td>1950</td>\n",
       "      <td>1</td>\n",
       "      <td>4</td>\n",
       "      <td>-1.1</td>\n",
       "      <td>-7.0</td>\n",
       "      <td>1.6</td>\n",
       "    </tr>\n",
       "    <tr>\n",
       "      <th>4</th>\n",
       "      <td>1012475</td>\n",
       "      <td>1950</td>\n",
       "      <td>1</td>\n",
       "      <td>5</td>\n",
       "      <td>2.8</td>\n",
       "      <td>-5.5</td>\n",
       "      <td>6.9</td>\n",
       "    </tr>\n",
       "  </tbody>\n",
       "</table>\n",
       "</div>"
      ],
      "text/plain": [
       "   station_id  year  month  day  tmax  tmin  prcp\n",
       "0     1012475  1950      1    1  -0.4  -5.4   4.6\n",
       "1     1012475  1950      1    2  -5.4  -8.9   3.1\n",
       "2     1012475  1950      1    3  -3.6  -9.5   5.9\n",
       "3     1012475  1950      1    4  -1.1  -7.0   1.6\n",
       "4     1012475  1950      1    5   2.8  -5.5   6.9"
      ]
     },
     "execution_count": 118,
     "metadata": {},
     "output_type": "execute_result"
    }
   ],
   "source": [
    "column_names = [\"station_id\", \"year\", \"month\", \"day\", \"tmax\", \"tmin\", \"prcp\"]\n",
    "station_data = pd.read_csv(\"data/1012475.dat\", header=None, names=column_names, delim_whitespace=True)\n",
    "station_data.head()"
   ]
  },
  {
   "cell_type": "markdown",
   "metadata": {},
   "source": [
    "Next we'll convert the year, month, and day columns into a datetime, drop those columns, and set the new datetime as the index."
   ]
  },
  {
   "cell_type": "code",
   "execution_count": 119,
   "metadata": {
    "scrolled": true
   },
   "outputs": [
    {
     "data": {
      "text/html": [
       "<div>\n",
       "<style scoped>\n",
       "    .dataframe tbody tr th:only-of-type {\n",
       "        vertical-align: middle;\n",
       "    }\n",
       "\n",
       "    .dataframe tbody tr th {\n",
       "        vertical-align: top;\n",
       "    }\n",
       "\n",
       "    .dataframe thead th {\n",
       "        text-align: right;\n",
       "    }\n",
       "</style>\n",
       "<table border=\"1\" class=\"dataframe\">\n",
       "  <thead>\n",
       "    <tr style=\"text-align: right;\">\n",
       "      <th></th>\n",
       "      <th>station_id</th>\n",
       "      <th>tmax</th>\n",
       "      <th>tmin</th>\n",
       "      <th>prcp</th>\n",
       "    </tr>\n",
       "    <tr>\n",
       "      <th>date</th>\n",
       "      <th></th>\n",
       "      <th></th>\n",
       "      <th></th>\n",
       "      <th></th>\n",
       "    </tr>\n",
       "  </thead>\n",
       "  <tbody>\n",
       "    <tr>\n",
       "      <th>1950-01-01</th>\n",
       "      <td>1012475</td>\n",
       "      <td>-0.4</td>\n",
       "      <td>-5.4</td>\n",
       "      <td>4.6</td>\n",
       "    </tr>\n",
       "    <tr>\n",
       "      <th>1950-01-02</th>\n",
       "      <td>1012475</td>\n",
       "      <td>-5.4</td>\n",
       "      <td>-8.9</td>\n",
       "      <td>3.1</td>\n",
       "    </tr>\n",
       "    <tr>\n",
       "      <th>1950-01-03</th>\n",
       "      <td>1012475</td>\n",
       "      <td>-3.6</td>\n",
       "      <td>-9.5</td>\n",
       "      <td>5.9</td>\n",
       "    </tr>\n",
       "    <tr>\n",
       "      <th>1950-01-04</th>\n",
       "      <td>1012475</td>\n",
       "      <td>-1.1</td>\n",
       "      <td>-7.0</td>\n",
       "      <td>1.6</td>\n",
       "    </tr>\n",
       "    <tr>\n",
       "      <th>1950-01-05</th>\n",
       "      <td>1012475</td>\n",
       "      <td>2.8</td>\n",
       "      <td>-5.5</td>\n",
       "      <td>6.9</td>\n",
       "    </tr>\n",
       "  </tbody>\n",
       "</table>\n",
       "</div>"
      ],
      "text/plain": [
       "            station_id  tmax  tmin  prcp\n",
       "date                                    \n",
       "1950-01-01     1012475  -0.4  -5.4   4.6\n",
       "1950-01-02     1012475  -5.4  -8.9   3.1\n",
       "1950-01-03     1012475  -3.6  -9.5   5.9\n",
       "1950-01-04     1012475  -1.1  -7.0   1.6\n",
       "1950-01-05     1012475   2.8  -5.5   6.9"
      ]
     },
     "execution_count": 119,
     "metadata": {},
     "output_type": "execute_result"
    }
   ],
   "source": [
    "station_data[\"date\"] = station_data[[\"year\", \"month\", \"day\"]].apply(lambda s : pd.datetime(*s), axis = 1)\n",
    "station_data.drop(columns=[\"year\", \"month\", \"day\"], inplace=True)\n",
    "station_data.set_index(\"date\", inplace=True)\n",
    "station_data.head()"
   ]
  },
  {
   "cell_type": "markdown",
   "metadata": {},
   "source": [
    "Get the start and end dates."
   ]
  },
  {
   "cell_type": "code",
   "execution_count": 134,
   "metadata": {},
   "outputs": [
    {
     "name": "stdout",
     "output_type": "stream",
     "text": [
      "Start: 1950\n",
      "End:   2019\n"
     ]
    }
   ],
   "source": [
    "start_year = station_data.index[0].year\n",
    "end_year = station_data.index[-1].year\n",
    "print(f\"Start: {start_year}\\nEnd:   {end_year}\")"
   ]
  },
  {
   "cell_type": "markdown",
   "metadata": {},
   "source": [
    "We'll now take the average of the `tmin` and `tmax` columns to get a daily average temperature Series."
   ]
  },
  {
   "cell_type": "code",
   "execution_count": 142,
   "metadata": {},
   "outputs": [
    {
     "data": {
      "text/plain": [
       "date\n",
       "1950-01-01   -2.90\n",
       "1950-01-02   -7.15\n",
       "1950-01-03   -6.55\n",
       "1950-01-04   -4.05\n",
       "1950-01-05   -1.35\n",
       "dtype: float64"
      ]
     },
     "execution_count": 142,
     "metadata": {},
     "output_type": "execute_result"
    }
   ],
   "source": [
    "tavg_daily = ((station_data[\"tmin\"] + station_data[\"tmax\"]) / 2)\n",
    "tavg_daily.head()"
   ]
  },
  {
   "cell_type": "markdown",
   "metadata": {},
   "source": [
    "We resample the daily average temperature values as monthly, and then get the mean in order to have monthly average temperatures."
   ]
  },
  {
   "cell_type": "code",
   "execution_count": 143,
   "metadata": {},
   "outputs": [
    {
     "name": "stdout",
     "output_type": "stream",
     "text": [
      "tavg: type=<class 'numpy.ndarray'>, shape=(830,), dtype=float64\n"
     ]
    }
   ],
   "source": [
    "# get the monthly average temperatures as a numpy array\n",
    "tavg = tavg_daily.resample('1M').mean().values\n",
    "print(f\"tavg: type={type(tavg)}, shape={tavg.shape}, dtype={tavg.dtype}\")"
   ]
  },
  {
   "cell_type": "markdown",
   "metadata": {},
   "source": [
    "We resample the daily precipitation values as monthly, and then get the sum in order to have monthly total precipitation."
   ]
  },
  {
   "cell_type": "code",
   "execution_count": 129,
   "metadata": {},
   "outputs": [
    {
     "name": "stdout",
     "output_type": "stream",
     "text": [
      "prcp: type=<class 'numpy.ndarray'>, shape=(830,), dtype=float64\n"
     ]
    }
   ],
   "source": [
    "# get the monthly total precipitation as a numpy array\n",
    "prcp = station_data[\"prcp\"].resample('1M').sum().values\n",
    "print(f\"prcp: type={type(prcp)}, shape={prcp.shape}, dtype={prcp.dtype}\")"
   ]
  },
  {
   "cell_type": "markdown",
   "metadata": {},
   "source": [
    "We can now compute PET."
   ]
  },
  {
   "cell_type": "code",
   "execution_count": 133,
   "metadata": {},
   "outputs": [
    {
     "data": {
      "text/plain": [
       "(830,)"
      ]
     },
     "execution_count": 133,
     "metadata": {},
     "output_type": "execute_result"
    }
   ],
   "source": [
    "pet = indices.pet(tavg, lat, start_year)\n",
    "pet.shape"
   ]
  },
  {
   "cell_type": "markdown",
   "metadata": {},
   "source": [
    "We can now compute self-calibrated PDSI, \"traditional\" PDSI, PHDI, PMDI, and Z-Index.\n",
    "\n",
    "Since the precipitation, PET, and AWC values are all in millimeters we'll first multiply these by `0.0393701` in order to convert the units to inches, since this is the unit required for the `climate_indices.indices.scpdsi` function."
   ]
  },
  {
   "cell_type": "code",
   "execution_count": 139,
   "metadata": {},
   "outputs": [],
   "source": [
    "prcp = prcp * 0.0393701\n",
    "pet = pet * 0.0393701\n",
    "awc = awc * 0.0393701\n",
    "scpdsi, pdsi, phdi, pmdi, zindex = indices.scpdsi(prcp, pet, awc, start_year, start_year, end_year)"
   ]
  },
  {
   "cell_type": "markdown",
   "metadata": {},
   "source": [
    "We'll now add all the data into a single Pandas DataFrame."
   ]
  },
  {
   "cell_type": "code",
   "execution_count": 152,
   "metadata": {},
   "outputs": [
    {
     "data": {
      "text/html": [
       "<div>\n",
       "<style scoped>\n",
       "    .dataframe tbody tr th:only-of-type {\n",
       "        vertical-align: middle;\n",
       "    }\n",
       "\n",
       "    .dataframe tbody tr th {\n",
       "        vertical-align: top;\n",
       "    }\n",
       "\n",
       "    .dataframe thead th {\n",
       "        text-align: right;\n",
       "    }\n",
       "</style>\n",
       "<table border=\"1\" class=\"dataframe\">\n",
       "  <thead>\n",
       "    <tr style=\"text-align: right;\">\n",
       "      <th></th>\n",
       "      <th>tavg</th>\n",
       "      <th>prcp</th>\n",
       "      <th>scpdsi</th>\n",
       "      <th>pdsi</th>\n",
       "      <th>phdi</th>\n",
       "      <th>pmdi</th>\n",
       "      <th>zindex</th>\n",
       "    </tr>\n",
       "    <tr>\n",
       "      <th>date</th>\n",
       "      <th></th>\n",
       "      <th></th>\n",
       "      <th></th>\n",
       "      <th></th>\n",
       "      <th></th>\n",
       "      <th></th>\n",
       "      <th></th>\n",
       "    </tr>\n",
       "  </thead>\n",
       "  <tbody>\n",
       "    <tr>\n",
       "      <th>1950-01-31</th>\n",
       "      <td>-3.767742</td>\n",
       "      <td>163.7</td>\n",
       "      <td>2.225005</td>\n",
       "      <td>2.328479</td>\n",
       "      <td>2.225005</td>\n",
       "      <td>2.225005</td>\n",
       "      <td>6.675014</td>\n",
       "    </tr>\n",
       "    <tr>\n",
       "      <th>1950-02-28</th>\n",
       "      <td>4.112500</td>\n",
       "      <td>170.5</td>\n",
       "      <td>4.000000</td>\n",
       "      <td>4.186021</td>\n",
       "      <td>4.000000</td>\n",
       "      <td>4.000000</td>\n",
       "      <td>6.012513</td>\n",
       "    </tr>\n",
       "    <tr>\n",
       "      <th>1950-03-31</th>\n",
       "      <td>5.340323</td>\n",
       "      <td>172.5</td>\n",
       "      <td>5.616883</td>\n",
       "      <td>5.878098</td>\n",
       "      <td>5.616883</td>\n",
       "      <td>5.616883</td>\n",
       "      <td>6.086649</td>\n",
       "    </tr>\n",
       "    <tr>\n",
       "      <th>1950-04-30</th>\n",
       "      <td>7.995000</td>\n",
       "      <td>57.8</td>\n",
       "      <td>5.410541</td>\n",
       "      <td>5.662160</td>\n",
       "      <td>5.410541</td>\n",
       "      <td>5.410541</td>\n",
       "      <td>1.116591</td>\n",
       "    </tr>\n",
       "    <tr>\n",
       "      <th>1950-05-31</th>\n",
       "      <td>10.479032</td>\n",
       "      <td>24.1</td>\n",
       "      <td>4.833275</td>\n",
       "      <td>5.062218</td>\n",
       "      <td>4.833275</td>\n",
       "      <td>4.755256</td>\n",
       "      <td>-0.059942</td>\n",
       "    </tr>\n",
       "  </tbody>\n",
       "</table>\n",
       "</div>"
      ],
      "text/plain": [
       "                 tavg   prcp    scpdsi      pdsi      phdi      pmdi    zindex\n",
       "date                                                                          \n",
       "1950-01-31  -3.767742  163.7  2.225005  2.328479  2.225005  2.225005  6.675014\n",
       "1950-02-28   4.112500  170.5  4.000000  4.186021  4.000000  4.000000  6.012513\n",
       "1950-03-31   5.340323  172.5  5.616883  5.878098  5.616883  5.616883  6.086649\n",
       "1950-04-30   7.995000   57.8  5.410541  5.662160  5.410541  5.410541  1.116591\n",
       "1950-05-31  10.479032   24.1  4.833275  5.062218  4.833275  4.755256 -0.059942"
      ]
     },
     "execution_count": 152,
     "metadata": {},
     "output_type": "execute_result"
    }
   ],
   "source": [
    "df = tavg_daily.resample('1M').mean().to_frame(name=\"tavg\")\n",
    "df[\"prcp\"] = station_data[\"prcp\"].resample('1M').sum()\n",
    "df[\"scpdsi\"] = scpdsi\n",
    "df[\"pdsi\"] = pdsi\n",
    "df[\"phdi\"] = phdi\n",
    "df[\"pmdi\"] = pmdi\n",
    "df[\"zindex\"] = zindex\n",
    "df.head()"
   ]
  },
  {
   "cell_type": "markdown",
   "metadata": {},
   "source": [
    "Plot the values we've computed."
   ]
  },
  {
   "cell_type": "code",
   "execution_count": 157,
   "metadata": {},
   "outputs": [
    {
     "data": {
      "text/html": [
       "\n",
       "    <div class=\"bk-root\">\n",
       "        <a href=\"https://bokeh.pydata.org\" target=\"_blank\" class=\"bk-logo bk-logo-small bk-logo-notebook\"></a>\n",
       "        <span id=\"1426\">Loading BokehJS ...</span>\n",
       "    </div>"
      ]
     },
     "metadata": {},
     "output_type": "display_data"
    },
    {
     "data": {
      "application/javascript": [
       "\n",
       "(function(root) {\n",
       "  function now() {\n",
       "    return new Date();\n",
       "  }\n",
       "\n",
       "  var force = true;\n",
       "\n",
       "  if (typeof (root._bokeh_onload_callbacks) === \"undefined\" || force === true) {\n",
       "    root._bokeh_onload_callbacks = [];\n",
       "    root._bokeh_is_loading = undefined;\n",
       "  }\n",
       "\n",
       "  var JS_MIME_TYPE = 'application/javascript';\n",
       "  var HTML_MIME_TYPE = 'text/html';\n",
       "  var EXEC_MIME_TYPE = 'application/vnd.bokehjs_exec.v0+json';\n",
       "  var CLASS_NAME = 'output_bokeh rendered_html';\n",
       "\n",
       "  /**\n",
       "   * Render data to the DOM node\n",
       "   */\n",
       "  function render(props, node) {\n",
       "    var script = document.createElement(\"script\");\n",
       "    node.appendChild(script);\n",
       "  }\n",
       "\n",
       "  /**\n",
       "   * Handle when an output is cleared or removed\n",
       "   */\n",
       "  function handleClearOutput(event, handle) {\n",
       "    var cell = handle.cell;\n",
       "\n",
       "    var id = cell.output_area._bokeh_element_id;\n",
       "    var server_id = cell.output_area._bokeh_server_id;\n",
       "    // Clean up Bokeh references\n",
       "    if (id != null && id in Bokeh.index) {\n",
       "      Bokeh.index[id].model.document.clear();\n",
       "      delete Bokeh.index[id];\n",
       "    }\n",
       "\n",
       "    if (server_id !== undefined) {\n",
       "      // Clean up Bokeh references\n",
       "      var cmd = \"from bokeh.io.state import curstate; print(curstate().uuid_to_server['\" + server_id + \"'].get_sessions()[0].document.roots[0]._id)\";\n",
       "      cell.notebook.kernel.execute(cmd, {\n",
       "        iopub: {\n",
       "          output: function(msg) {\n",
       "            var id = msg.content.text.trim();\n",
       "            if (id in Bokeh.index) {\n",
       "              Bokeh.index[id].model.document.clear();\n",
       "              delete Bokeh.index[id];\n",
       "            }\n",
       "          }\n",
       "        }\n",
       "      });\n",
       "      // Destroy server and session\n",
       "      var cmd = \"import bokeh.io.notebook as ion; ion.destroy_server('\" + server_id + \"')\";\n",
       "      cell.notebook.kernel.execute(cmd);\n",
       "    }\n",
       "  }\n",
       "\n",
       "  /**\n",
       "   * Handle when a new output is added\n",
       "   */\n",
       "  function handleAddOutput(event, handle) {\n",
       "    var output_area = handle.output_area;\n",
       "    var output = handle.output;\n",
       "\n",
       "    // limit handleAddOutput to display_data with EXEC_MIME_TYPE content only\n",
       "    if ((output.output_type != \"display_data\") || (!output.data.hasOwnProperty(EXEC_MIME_TYPE))) {\n",
       "      return\n",
       "    }\n",
       "\n",
       "    var toinsert = output_area.element.find(\".\" + CLASS_NAME.split(' ')[0]);\n",
       "\n",
       "    if (output.metadata[EXEC_MIME_TYPE][\"id\"] !== undefined) {\n",
       "      toinsert[toinsert.length - 1].firstChild.textContent = output.data[JS_MIME_TYPE];\n",
       "      // store reference to embed id on output_area\n",
       "      output_area._bokeh_element_id = output.metadata[EXEC_MIME_TYPE][\"id\"];\n",
       "    }\n",
       "    if (output.metadata[EXEC_MIME_TYPE][\"server_id\"] !== undefined) {\n",
       "      var bk_div = document.createElement(\"div\");\n",
       "      bk_div.innerHTML = output.data[HTML_MIME_TYPE];\n",
       "      var script_attrs = bk_div.children[0].attributes;\n",
       "      for (var i = 0; i < script_attrs.length; i++) {\n",
       "        toinsert[toinsert.length - 1].firstChild.setAttribute(script_attrs[i].name, script_attrs[i].value);\n",
       "      }\n",
       "      // store reference to server id on output_area\n",
       "      output_area._bokeh_server_id = output.metadata[EXEC_MIME_TYPE][\"server_id\"];\n",
       "    }\n",
       "  }\n",
       "\n",
       "  function register_renderer(events, OutputArea) {\n",
       "\n",
       "    function append_mime(data, metadata, element) {\n",
       "      // create a DOM node to render to\n",
       "      var toinsert = this.create_output_subarea(\n",
       "        metadata,\n",
       "        CLASS_NAME,\n",
       "        EXEC_MIME_TYPE\n",
       "      );\n",
       "      this.keyboard_manager.register_events(toinsert);\n",
       "      // Render to node\n",
       "      var props = {data: data, metadata: metadata[EXEC_MIME_TYPE]};\n",
       "      render(props, toinsert[toinsert.length - 1]);\n",
       "      element.append(toinsert);\n",
       "      return toinsert\n",
       "    }\n",
       "\n",
       "    /* Handle when an output is cleared or removed */\n",
       "    events.on('clear_output.CodeCell', handleClearOutput);\n",
       "    events.on('delete.Cell', handleClearOutput);\n",
       "\n",
       "    /* Handle when a new output is added */\n",
       "    events.on('output_added.OutputArea', handleAddOutput);\n",
       "\n",
       "    /**\n",
       "     * Register the mime type and append_mime function with output_area\n",
       "     */\n",
       "    OutputArea.prototype.register_mime_type(EXEC_MIME_TYPE, append_mime, {\n",
       "      /* Is output safe? */\n",
       "      safe: true,\n",
       "      /* Index of renderer in `output_area.display_order` */\n",
       "      index: 0\n",
       "    });\n",
       "  }\n",
       "\n",
       "  // register the mime type if in Jupyter Notebook environment and previously unregistered\n",
       "  if (root.Jupyter !== undefined) {\n",
       "    var events = require('base/js/events');\n",
       "    var OutputArea = require('notebook/js/outputarea').OutputArea;\n",
       "\n",
       "    if (OutputArea.prototype.mime_types().indexOf(EXEC_MIME_TYPE) == -1) {\n",
       "      register_renderer(events, OutputArea);\n",
       "    }\n",
       "  }\n",
       "\n",
       "  \n",
       "  if (typeof (root._bokeh_timeout) === \"undefined\" || force === true) {\n",
       "    root._bokeh_timeout = Date.now() + 5000;\n",
       "    root._bokeh_failed_load = false;\n",
       "  }\n",
       "\n",
       "  var NB_LOAD_WARNING = {'data': {'text/html':\n",
       "     \"<div style='background-color: #fdd'>\\n\"+\n",
       "     \"<p>\\n\"+\n",
       "     \"BokehJS does not appear to have successfully loaded. If loading BokehJS from CDN, this \\n\"+\n",
       "     \"may be due to a slow or bad network connection. Possible fixes:\\n\"+\n",
       "     \"</p>\\n\"+\n",
       "     \"<ul>\\n\"+\n",
       "     \"<li>re-rerun `output_notebook()` to attempt to load from CDN again, or</li>\\n\"+\n",
       "     \"<li>use INLINE resources instead, as so:</li>\\n\"+\n",
       "     \"</ul>\\n\"+\n",
       "     \"<code>\\n\"+\n",
       "     \"from bokeh.resources import INLINE\\n\"+\n",
       "     \"output_notebook(resources=INLINE)\\n\"+\n",
       "     \"</code>\\n\"+\n",
       "     \"</div>\"}};\n",
       "\n",
       "  function display_loaded() {\n",
       "    var el = document.getElementById(\"1426\");\n",
       "    if (el != null) {\n",
       "      el.textContent = \"BokehJS is loading...\";\n",
       "    }\n",
       "    if (root.Bokeh !== undefined) {\n",
       "      if (el != null) {\n",
       "        el.textContent = \"BokehJS \" + root.Bokeh.version + \" successfully loaded.\";\n",
       "      }\n",
       "    } else if (Date.now() < root._bokeh_timeout) {\n",
       "      setTimeout(display_loaded, 100)\n",
       "    }\n",
       "  }\n",
       "\n",
       "\n",
       "  function run_callbacks() {\n",
       "    try {\n",
       "      root._bokeh_onload_callbacks.forEach(function(callback) { callback() });\n",
       "    }\n",
       "    finally {\n",
       "      delete root._bokeh_onload_callbacks\n",
       "    }\n",
       "    console.info(\"Bokeh: all callbacks have finished\");\n",
       "  }\n",
       "\n",
       "  function load_libs(js_urls, callback) {\n",
       "    root._bokeh_onload_callbacks.push(callback);\n",
       "    if (root._bokeh_is_loading > 0) {\n",
       "      console.log(\"Bokeh: BokehJS is being loaded, scheduling callback at\", now());\n",
       "      return null;\n",
       "    }\n",
       "    if (js_urls == null || js_urls.length === 0) {\n",
       "      run_callbacks();\n",
       "      return null;\n",
       "    }\n",
       "    console.log(\"Bokeh: BokehJS not loaded, scheduling load and callback at\", now());\n",
       "    root._bokeh_is_loading = js_urls.length;\n",
       "    for (var i = 0; i < js_urls.length; i++) {\n",
       "      var url = js_urls[i];\n",
       "      var s = document.createElement('script');\n",
       "      s.src = url;\n",
       "      s.async = false;\n",
       "      s.onreadystatechange = s.onload = function() {\n",
       "        root._bokeh_is_loading--;\n",
       "        if (root._bokeh_is_loading === 0) {\n",
       "          console.log(\"Bokeh: all BokehJS libraries loaded\");\n",
       "          run_callbacks()\n",
       "        }\n",
       "      };\n",
       "      s.onerror = function() {\n",
       "        console.warn(\"failed to load library \" + url);\n",
       "      };\n",
       "      console.log(\"Bokeh: injecting script tag for BokehJS library: \", url);\n",
       "      document.getElementsByTagName(\"head\")[0].appendChild(s);\n",
       "    }\n",
       "  };var element = document.getElementById(\"1426\");\n",
       "  if (element == null) {\n",
       "    console.log(\"Bokeh: ERROR: autoload.js configured with elementid '1426' but no matching script tag was found. \")\n",
       "    return false;\n",
       "  }\n",
       "\n",
       "  var js_urls = [\"https://cdn.pydata.org/bokeh/release/bokeh-1.0.4.min.js\", \"https://cdn.pydata.org/bokeh/release/bokeh-widgets-1.0.4.min.js\", \"https://cdn.pydata.org/bokeh/release/bokeh-tables-1.0.4.min.js\", \"https://cdn.pydata.org/bokeh/release/bokeh-gl-1.0.4.min.js\"];\n",
       "\n",
       "  var inline_js = [\n",
       "    function(Bokeh) {\n",
       "      Bokeh.set_log_level(\"info\");\n",
       "    },\n",
       "    \n",
       "    function(Bokeh) {\n",
       "      \n",
       "    },\n",
       "    function(Bokeh) {\n",
       "      console.log(\"Bokeh: injecting CSS: https://cdn.pydata.org/bokeh/release/bokeh-1.0.4.min.css\");\n",
       "      Bokeh.embed.inject_css(\"https://cdn.pydata.org/bokeh/release/bokeh-1.0.4.min.css\");\n",
       "      console.log(\"Bokeh: injecting CSS: https://cdn.pydata.org/bokeh/release/bokeh-widgets-1.0.4.min.css\");\n",
       "      Bokeh.embed.inject_css(\"https://cdn.pydata.org/bokeh/release/bokeh-widgets-1.0.4.min.css\");\n",
       "      console.log(\"Bokeh: injecting CSS: https://cdn.pydata.org/bokeh/release/bokeh-tables-1.0.4.min.css\");\n",
       "      Bokeh.embed.inject_css(\"https://cdn.pydata.org/bokeh/release/bokeh-tables-1.0.4.min.css\");\n",
       "    }\n",
       "  ];\n",
       "\n",
       "  function run_inline_js() {\n",
       "    \n",
       "    if ((root.Bokeh !== undefined) || (force === true)) {\n",
       "      for (var i = 0; i < inline_js.length; i++) {\n",
       "        inline_js[i].call(root, root.Bokeh);\n",
       "      }if (force === true) {\n",
       "        display_loaded();\n",
       "      }} else if (Date.now() < root._bokeh_timeout) {\n",
       "      setTimeout(run_inline_js, 100);\n",
       "    } else if (!root._bokeh_failed_load) {\n",
       "      console.log(\"Bokeh: BokehJS failed to load within specified timeout.\");\n",
       "      root._bokeh_failed_load = true;\n",
       "    } else if (force !== true) {\n",
       "      var cell = $(document.getElementById(\"1426\")).parents('.cell').data().cell;\n",
       "      cell.output_area.append_execute_result(NB_LOAD_WARNING)\n",
       "    }\n",
       "\n",
       "  }\n",
       "\n",
       "  if (root._bokeh_is_loading === 0) {\n",
       "    console.log(\"Bokeh: BokehJS loaded, going straight to plotting\");\n",
       "    run_inline_js();\n",
       "  } else {\n",
       "    load_libs(js_urls, function() {\n",
       "      console.log(\"Bokeh: BokehJS plotting callback run at\", now());\n",
       "      run_inline_js();\n",
       "    });\n",
       "  }\n",
       "}(window));"
      ],
      "application/vnd.bokehjs_load.v0+json": "\n(function(root) {\n  function now() {\n    return new Date();\n  }\n\n  var force = true;\n\n  if (typeof (root._bokeh_onload_callbacks) === \"undefined\" || force === true) {\n    root._bokeh_onload_callbacks = [];\n    root._bokeh_is_loading = undefined;\n  }\n\n  \n\n  \n  if (typeof (root._bokeh_timeout) === \"undefined\" || force === true) {\n    root._bokeh_timeout = Date.now() + 5000;\n    root._bokeh_failed_load = false;\n  }\n\n  var NB_LOAD_WARNING = {'data': {'text/html':\n     \"<div style='background-color: #fdd'>\\n\"+\n     \"<p>\\n\"+\n     \"BokehJS does not appear to have successfully loaded. If loading BokehJS from CDN, this \\n\"+\n     \"may be due to a slow or bad network connection. Possible fixes:\\n\"+\n     \"</p>\\n\"+\n     \"<ul>\\n\"+\n     \"<li>re-rerun `output_notebook()` to attempt to load from CDN again, or</li>\\n\"+\n     \"<li>use INLINE resources instead, as so:</li>\\n\"+\n     \"</ul>\\n\"+\n     \"<code>\\n\"+\n     \"from bokeh.resources import INLINE\\n\"+\n     \"output_notebook(resources=INLINE)\\n\"+\n     \"</code>\\n\"+\n     \"</div>\"}};\n\n  function display_loaded() {\n    var el = document.getElementById(\"1426\");\n    if (el != null) {\n      el.textContent = \"BokehJS is loading...\";\n    }\n    if (root.Bokeh !== undefined) {\n      if (el != null) {\n        el.textContent = \"BokehJS \" + root.Bokeh.version + \" successfully loaded.\";\n      }\n    } else if (Date.now() < root._bokeh_timeout) {\n      setTimeout(display_loaded, 100)\n    }\n  }\n\n\n  function run_callbacks() {\n    try {\n      root._bokeh_onload_callbacks.forEach(function(callback) { callback() });\n    }\n    finally {\n      delete root._bokeh_onload_callbacks\n    }\n    console.info(\"Bokeh: all callbacks have finished\");\n  }\n\n  function load_libs(js_urls, callback) {\n    root._bokeh_onload_callbacks.push(callback);\n    if (root._bokeh_is_loading > 0) {\n      console.log(\"Bokeh: BokehJS is being loaded, scheduling callback at\", now());\n      return null;\n    }\n    if (js_urls == null || js_urls.length === 0) {\n      run_callbacks();\n      return null;\n    }\n    console.log(\"Bokeh: BokehJS not loaded, scheduling load and callback at\", now());\n    root._bokeh_is_loading = js_urls.length;\n    for (var i = 0; i < js_urls.length; i++) {\n      var url = js_urls[i];\n      var s = document.createElement('script');\n      s.src = url;\n      s.async = false;\n      s.onreadystatechange = s.onload = function() {\n        root._bokeh_is_loading--;\n        if (root._bokeh_is_loading === 0) {\n          console.log(\"Bokeh: all BokehJS libraries loaded\");\n          run_callbacks()\n        }\n      };\n      s.onerror = function() {\n        console.warn(\"failed to load library \" + url);\n      };\n      console.log(\"Bokeh: injecting script tag for BokehJS library: \", url);\n      document.getElementsByTagName(\"head\")[0].appendChild(s);\n    }\n  };var element = document.getElementById(\"1426\");\n  if (element == null) {\n    console.log(\"Bokeh: ERROR: autoload.js configured with elementid '1426' but no matching script tag was found. \")\n    return false;\n  }\n\n  var js_urls = [\"https://cdn.pydata.org/bokeh/release/bokeh-1.0.4.min.js\", \"https://cdn.pydata.org/bokeh/release/bokeh-widgets-1.0.4.min.js\", \"https://cdn.pydata.org/bokeh/release/bokeh-tables-1.0.4.min.js\", \"https://cdn.pydata.org/bokeh/release/bokeh-gl-1.0.4.min.js\"];\n\n  var inline_js = [\n    function(Bokeh) {\n      Bokeh.set_log_level(\"info\");\n    },\n    \n    function(Bokeh) {\n      \n    },\n    function(Bokeh) {\n      console.log(\"Bokeh: injecting CSS: https://cdn.pydata.org/bokeh/release/bokeh-1.0.4.min.css\");\n      Bokeh.embed.inject_css(\"https://cdn.pydata.org/bokeh/release/bokeh-1.0.4.min.css\");\n      console.log(\"Bokeh: injecting CSS: https://cdn.pydata.org/bokeh/release/bokeh-widgets-1.0.4.min.css\");\n      Bokeh.embed.inject_css(\"https://cdn.pydata.org/bokeh/release/bokeh-widgets-1.0.4.min.css\");\n      console.log(\"Bokeh: injecting CSS: https://cdn.pydata.org/bokeh/release/bokeh-tables-1.0.4.min.css\");\n      Bokeh.embed.inject_css(\"https://cdn.pydata.org/bokeh/release/bokeh-tables-1.0.4.min.css\");\n    }\n  ];\n\n  function run_inline_js() {\n    \n    if ((root.Bokeh !== undefined) || (force === true)) {\n      for (var i = 0; i < inline_js.length; i++) {\n        inline_js[i].call(root, root.Bokeh);\n      }if (force === true) {\n        display_loaded();\n      }} else if (Date.now() < root._bokeh_timeout) {\n      setTimeout(run_inline_js, 100);\n    } else if (!root._bokeh_failed_load) {\n      console.log(\"Bokeh: BokehJS failed to load within specified timeout.\");\n      root._bokeh_failed_load = true;\n    } else if (force !== true) {\n      var cell = $(document.getElementById(\"1426\")).parents('.cell').data().cell;\n      cell.output_area.append_execute_result(NB_LOAD_WARNING)\n    }\n\n  }\n\n  if (root._bokeh_is_loading === 0) {\n    console.log(\"Bokeh: BokehJS loaded, going straight to plotting\");\n    run_inline_js();\n  } else {\n    load_libs(js_urls, function() {\n      console.log(\"Bokeh: BokehJS plotting callback run at\", now());\n      run_inline_js();\n    });\n  }\n}(window));"
     },
     "metadata": {},
     "output_type": "display_data"
    },
    {
     "data": {
      "text/html": [
       "\n",
       "\n",
       "\n",
       "\n",
       "\n",
       "\n",
       "  <div class=\"bk-root\" id=\"55428944-15be-4d87-a287-2ee77c6782ba\" data-root-id=\"1428\"></div>\n"
      ]
     },
     "metadata": {},
     "output_type": "display_data"
    },
    {
     "data": {
      "application/javascript": [
       "(function(root) {\n",
       "  function embed_document(root) {\n",
       "    \n",
       "  var docs_json = {\"d73869ce-99e8-4456-88c3-4ce60f845e81\":{\"roots\":{\"references\":[{\"attributes\":{\"below\":[{\"id\":\"1438\",\"type\":\"DatetimeAxis\"}],\"left\":[{\"id\":\"1443\",\"type\":\"LinearAxis\"}],\"plot_height\":350,\"plot_width\":800,\"renderers\":[{\"id\":\"1438\",\"type\":\"DatetimeAxis\"},{\"id\":\"1442\",\"type\":\"Grid\"},{\"id\":\"1443\",\"type\":\"LinearAxis\"},{\"id\":\"1447\",\"type\":\"Grid\"},{\"id\":\"1456\",\"type\":\"BoxAnnotation\"},{\"id\":\"1466\",\"type\":\"GlyphRenderer\"}],\"title\":{\"id\":\"1427\",\"type\":\"Title\"},\"toolbar\":{\"id\":\"1454\",\"type\":\"Toolbar\"},\"x_range\":{\"id\":\"1430\",\"type\":\"DataRange1d\"},\"x_scale\":{\"id\":\"1434\",\"type\":\"LinearScale\"},\"y_range\":{\"id\":\"1432\",\"type\":\"DataRange1d\"},\"y_scale\":{\"id\":\"1436\",\"type\":\"LinearScale\"}},\"id\":\"1428\",\"subtype\":\"Figure\",\"type\":\"Plot\"},{\"attributes\":{},\"id\":\"1434\",\"type\":\"LinearScale\"},{\"attributes\":{},\"id\":\"1453\",\"type\":\"HelpTool\"},{\"attributes\":{},\"id\":\"1451\",\"type\":\"SaveTool\"},{\"attributes\":{\"axis_label\":\"Value\",\"formatter\":{\"id\":\"1491\",\"type\":\"BasicTickFormatter\"},\"plot\":{\"id\":\"1428\",\"subtype\":\"Figure\",\"type\":\"Plot\"},\"ticker\":{\"id\":\"1444\",\"type\":\"BasicTicker\"}},\"id\":\"1443\",\"type\":\"LinearAxis\"},{\"attributes\":{},\"id\":\"1489\",\"type\":\"DatetimeTickFormatter\"},{\"attributes\":{\"callback\":null},\"id\":\"1430\",\"type\":\"DataRange1d\"},{\"attributes\":{},\"id\":\"1444\",\"type\":\"BasicTicker\"},{\"attributes\":{\"days\":[1,15]},\"id\":\"1499\",\"type\":\"DaysTicker\"},{\"attributes\":{\"callback\":null,\"data\":{\"x\":{\"__ndarray__\":\"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\",\"dtype\":\"float64\",\"shape\":[830]},\"y\":{\"__ndarray__\":\"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\",\"dtype\":\"float64\",\"shape\":[830]}},\"selected\":{\"id\":\"1505\",\"type\":\"Selection\"},\"selection_policy\":{\"id\":\"1506\",\"type\":\"UnionRenderers\"}},\"id\":\"1463\",\"type\":\"ColumnDataSource\"},{\"attributes\":{\"mantissas\":[1,2,5],\"max_interval\":500.0,\"num_minor_ticks\":0},\"id\":\"1493\",\"type\":\"AdaptiveTicker\"},{\"attributes\":{\"plot\":null,\"text\":\"Self-calibrated PDSI\"},\"id\":\"1427\",\"type\":\"Title\"},{\"attributes\":{\"axis_label\":\"Time\",\"formatter\":{\"id\":\"1489\",\"type\":\"DatetimeTickFormatter\"},\"plot\":{\"id\":\"1428\",\"subtype\":\"Figure\",\"type\":\"Plot\"},\"ticker\":{\"id\":\"1439\",\"type\":\"DatetimeTicker\"}},\"id\":\"1438\",\"type\":\"DatetimeAxis\"},{\"attributes\":{},\"id\":\"1506\",\"type\":\"UnionRenderers\"},{\"attributes\":{\"dimension\":1,\"grid_line_alpha\":{\"value\":0.5},\"plot\":{\"id\":\"1428\",\"subtype\":\"Figure\",\"type\":\"Plot\"},\"ticker\":{\"id\":\"1444\",\"type\":\"BasicTicker\"}},\"id\":\"1447\",\"type\":\"Grid\"},{\"attributes\":{\"months\":[0,1,2,3,4,5,6,7,8,9,10,11]},\"id\":\"1500\",\"type\":\"MonthsTicker\"},{\"attributes\":{\"months\":[0,4,8]},\"id\":\"1502\",\"type\":\"MonthsTicker\"},{\"attributes\":{},\"id\":\"1505\",\"type\":\"Selection\"},{\"attributes\":{\"months\":[0,2,4,6,8,10]},\"id\":\"1501\",\"type\":\"MonthsTicker\"},{\"attributes\":{},\"id\":\"1436\",\"type\":\"LinearScale\"},{\"attributes\":{},\"id\":\"1448\",\"type\":\"PanTool\"},{\"attributes\":{\"callback\":null},\"id\":\"1432\",\"type\":\"DataRange1d\"},{\"attributes\":{\"grid_line_color\":{\"value\":null},\"plot\":{\"id\":\"1428\",\"subtype\":\"Figure\",\"type\":\"Plot\"},\"ticker\":{\"id\":\"1439\",\"type\":\"DatetimeTicker\"}},\"id\":\"1442\",\"type\":\"Grid\"},{\"attributes\":{\"active_drag\":\"auto\",\"active_inspect\":\"auto\",\"active_multi\":null,\"active_scroll\":\"auto\",\"active_tap\":\"auto\",\"tools\":[{\"id\":\"1448\",\"type\":\"PanTool\"},{\"id\":\"1449\",\"type\":\"WheelZoomTool\"},{\"id\":\"1450\",\"type\":\"BoxZoomTool\"},{\"id\":\"1451\",\"type\":\"SaveTool\"},{\"id\":\"1452\",\"type\":\"ResetTool\"},{\"id\":\"1453\",\"type\":\"HelpTool\"}]},\"id\":\"1454\",\"type\":\"Toolbar\"},{\"attributes\":{\"line_color\":\"#1f77b4\",\"x\":{\"field\":\"x\"},\"y\":{\"field\":\"y\"}},\"id\":\"1464\",\"type\":\"Line\"},{\"attributes\":{\"data_source\":{\"id\":\"1463\",\"type\":\"ColumnDataSource\"},\"glyph\":{\"id\":\"1464\",\"type\":\"Line\"},\"hover_glyph\":null,\"muted_glyph\":null,\"nonselection_glyph\":{\"id\":\"1465\",\"type\":\"Line\"},\"selection_glyph\":null,\"view\":{\"id\":\"1467\",\"type\":\"CDSView\"}},\"id\":\"1466\",\"type\":\"GlyphRenderer\"},{\"attributes\":{\"days\":[1,8,15,22]},\"id\":\"1498\",\"type\":\"DaysTicker\"},{\"attributes\":{\"num_minor_ticks\":5,\"tickers\":[{\"id\":\"1493\",\"type\":\"AdaptiveTicker\"},{\"id\":\"1494\",\"type\":\"AdaptiveTicker\"},{\"id\":\"1495\",\"type\":\"AdaptiveTicker\"},{\"id\":\"1496\",\"type\":\"DaysTicker\"},{\"id\":\"1497\",\"type\":\"DaysTicker\"},{\"id\":\"1498\",\"type\":\"DaysTicker\"},{\"id\":\"1499\",\"type\":\"DaysTicker\"},{\"id\":\"1500\",\"type\":\"MonthsTicker\"},{\"id\":\"1501\",\"type\":\"MonthsTicker\"},{\"id\":\"1502\",\"type\":\"MonthsTicker\"},{\"id\":\"1503\",\"type\":\"MonthsTicker\"},{\"id\":\"1504\",\"type\":\"YearsTicker\"}]},\"id\":\"1439\",\"type\":\"DatetimeTicker\"},{\"attributes\":{\"months\":[0,6]},\"id\":\"1503\",\"type\":\"MonthsTicker\"},{\"attributes\":{},\"id\":\"1504\",\"type\":\"YearsTicker\"},{\"attributes\":{\"source\":{\"id\":\"1463\",\"type\":\"ColumnDataSource\"}},\"id\":\"1467\",\"type\":\"CDSView\"},{\"attributes\":{},\"id\":\"1449\",\"type\":\"WheelZoomTool\"},{\"attributes\":{\"line_alpha\":0.1,\"line_color\":\"#1f77b4\",\"x\":{\"field\":\"x\"},\"y\":{\"field\":\"y\"}},\"id\":\"1465\",\"type\":\"Line\"},{\"attributes\":{\"base\":60,\"mantissas\":[1,2,5,10,15,20,30],\"max_interval\":1800000.0,\"min_interval\":1000.0,\"num_minor_ticks\":0},\"id\":\"1494\",\"type\":\"AdaptiveTicker\"},{\"attributes\":{\"overlay\":{\"id\":\"1456\",\"type\":\"BoxAnnotation\"}},\"id\":\"1450\",\"type\":\"BoxZoomTool\"},{\"attributes\":{},\"id\":\"1491\",\"type\":\"BasicTickFormatter\"},{\"attributes\":{\"base\":24,\"mantissas\":[1,2,4,6,8,12],\"max_interval\":43200000.0,\"min_interval\":3600000.0,\"num_minor_ticks\":0},\"id\":\"1495\",\"type\":\"AdaptiveTicker\"},{\"attributes\":{\"days\":[1,2,3,4,5,6,7,8,9,10,11,12,13,14,15,16,17,18,19,20,21,22,23,24,25,26,27,28,29,30,31]},\"id\":\"1496\",\"type\":\"DaysTicker\"},{\"attributes\":{\"bottom_units\":\"screen\",\"fill_alpha\":{\"value\":0.5},\"fill_color\":{\"value\":\"lightgrey\"},\"left_units\":\"screen\",\"level\":\"overlay\",\"line_alpha\":{\"value\":1.0},\"line_color\":{\"value\":\"black\"},\"line_dash\":[4,4],\"line_width\":{\"value\":2},\"plot\":null,\"render_mode\":\"css\",\"right_units\":\"screen\",\"top_units\":\"screen\"},\"id\":\"1456\",\"type\":\"BoxAnnotation\"},{\"attributes\":{\"days\":[1,4,7,10,13,16,19,22,25,28]},\"id\":\"1497\",\"type\":\"DaysTicker\"},{\"attributes\":{},\"id\":\"1452\",\"type\":\"ResetTool\"}],\"root_ids\":[\"1428\"]},\"title\":\"Bokeh Application\",\"version\":\"1.0.4\"}};\n",
       "  var render_items = [{\"docid\":\"d73869ce-99e8-4456-88c3-4ce60f845e81\",\"roots\":{\"1428\":\"55428944-15be-4d87-a287-2ee77c6782ba\"}}];\n",
       "  root.Bokeh.embed.embed_items_notebook(docs_json, render_items);\n",
       "\n",
       "  }\n",
       "  if (root.Bokeh !== undefined) {\n",
       "    embed_document(root);\n",
       "  } else {\n",
       "    var attempts = 0;\n",
       "    var timer = setInterval(function(root) {\n",
       "      if (root.Bokeh !== undefined) {\n",
       "        embed_document(root);\n",
       "        clearInterval(timer);\n",
       "      }\n",
       "      attempts++;\n",
       "      if (attempts > 100) {\n",
       "        console.log(\"Bokeh: ERROR: Unable to run BokehJS code because BokehJS library is missing\");\n",
       "        clearInterval(timer);\n",
       "      }\n",
       "    }, 10, root)\n",
       "  }\n",
       "})(window);"
      ],
      "application/vnd.bokehjs_exec.v0+json": ""
     },
     "metadata": {
      "application/vnd.bokehjs_exec.v0+json": {
       "id": "1428"
      }
     },
     "output_type": "display_data"
    },
    {
     "data": {
      "text/html": [
       "\n",
       "\n",
       "\n",
       "\n",
       "\n",
       "\n",
       "  <div class=\"bk-root\" id=\"a02ca2d4-f365-452f-a6cc-08dc2def3bec\" data-root-id=\"1629\"></div>\n"
      ]
     },
     "metadata": {},
     "output_type": "display_data"
    },
    {
     "data": {
      "application/javascript": [
       "(function(root) {\n",
       "  function embed_document(root) {\n",
       "    \n",
       "  var docs_json = {\"626414f7-b7a9-4554-8468-684dc1ea00d8\":{\"roots\":{\"references\":[{\"attributes\":{\"below\":[{\"id\":\"1639\",\"type\":\"DatetimeAxis\"}],\"left\":[{\"id\":\"1644\",\"type\":\"LinearAxis\"}],\"plot_height\":350,\"plot_width\":800,\"renderers\":[{\"id\":\"1639\",\"type\":\"DatetimeAxis\"},{\"id\":\"1643\",\"type\":\"Grid\"},{\"id\":\"1644\",\"type\":\"LinearAxis\"},{\"id\":\"1648\",\"type\":\"Grid\"},{\"id\":\"1657\",\"type\":\"BoxAnnotation\"},{\"id\":\"1667\",\"type\":\"GlyphRenderer\"}],\"title\":{\"id\":\"1628\",\"type\":\"Title\"},\"toolbar\":{\"id\":\"1655\",\"type\":\"Toolbar\"},\"x_range\":{\"id\":\"1631\",\"type\":\"DataRange1d\"},\"x_scale\":{\"id\":\"1635\",\"type\":\"LinearScale\"},\"y_range\":{\"id\":\"1633\",\"type\":\"DataRange1d\"},\"y_scale\":{\"id\":\"1637\",\"type\":\"LinearScale\"}},\"id\":\"1629\",\"subtype\":\"Figure\",\"type\":\"Plot\"},{\"attributes\":{\"axis_label\":\"Time\",\"formatter\":{\"id\":\"1710\",\"type\":\"DatetimeTickFormatter\"},\"plot\":{\"id\":\"1629\",\"subtype\":\"Figure\",\"type\":\"Plot\"},\"ticker\":{\"id\":\"1640\",\"type\":\"DatetimeTicker\"}},\"id\":\"1639\",\"type\":\"DatetimeAxis\"},{\"attributes\":{\"data_source\":{\"id\":\"1664\",\"type\":\"ColumnDataSource\"},\"glyph\":{\"id\":\"1665\",\"type\":\"Line\"},\"hover_glyph\":null,\"muted_glyph\":null,\"nonselection_glyph\":{\"id\":\"1666\",\"type\":\"Line\"},\"selection_glyph\":null,\"view\":{\"id\":\"1668\",\"type\":\"CDSView\"}},\"id\":\"1667\",\"type\":\"GlyphRenderer\"},{\"attributes\":{\"axis_label\":\"Value\",\"formatter\":{\"id\":\"1712\",\"type\":\"BasicTickFormatter\"},\"plot\":{\"id\":\"1629\",\"subtype\":\"Figure\",\"type\":\"Plot\"},\"ticker\":{\"id\":\"1645\",\"type\":\"BasicTicker\"}},\"id\":\"1644\",\"type\":\"LinearAxis\"},{\"attributes\":{\"months\":[0,6]},\"id\":\"1724\",\"type\":\"MonthsTicker\"},{\"attributes\":{\"callback\":null},\"id\":\"1631\",\"type\":\"DataRange1d\"},{\"attributes\":{\"months\":[0,4,8]},\"id\":\"1723\",\"type\":\"MonthsTicker\"},{\"attributes\":{\"days\":[1,15]},\"id\":\"1720\",\"type\":\"DaysTicker\"},{\"attributes\":{},\"id\":\"1645\",\"type\":\"BasicTicker\"},{\"attributes\":{\"days\":[1,8,15,22]},\"id\":\"1719\",\"type\":\"DaysTicker\"},{\"attributes\":{\"line_color\":\"#1f77b4\",\"x\":{\"field\":\"x\"},\"y\":{\"field\":\"y\"}},\"id\":\"1665\",\"type\":\"Line\"},{\"attributes\":{\"line_alpha\":0.1,\"line_color\":\"#1f77b4\",\"x\":{\"field\":\"x\"},\"y\":{\"field\":\"y\"}},\"id\":\"1666\",\"type\":\"Line\"},{\"attributes\":{},\"id\":\"1637\",\"type\":\"LinearScale\"},{\"attributes\":{\"mantissas\":[1,2,5],\"max_interval\":500.0,\"num_minor_ticks\":0},\"id\":\"1714\",\"type\":\"AdaptiveTicker\"},{\"attributes\":{},\"id\":\"1652\",\"type\":\"SaveTool\"},{\"attributes\":{\"days\":[1,2,3,4,5,6,7,8,9,10,11,12,13,14,15,16,17,18,19,20,21,22,23,24,25,26,27,28,29,30,31]},\"id\":\"1717\",\"type\":\"DaysTicker\"},{\"attributes\":{\"callback\":null},\"id\":\"1633\",\"type\":\"DataRange1d\"},{\"attributes\":{},\"id\":\"1710\",\"type\":\"DatetimeTickFormatter\"},{\"attributes\":{\"grid_line_color\":{\"value\":null},\"plot\":{\"id\":\"1629\",\"subtype\":\"Figure\",\"type\":\"Plot\"},\"ticker\":{\"id\":\"1640\",\"type\":\"DatetimeTicker\"}},\"id\":\"1643\",\"type\":\"Grid\"},{\"attributes\":{\"overlay\":{\"id\":\"1657\",\"type\":\"BoxAnnotation\"}},\"id\":\"1651\",\"type\":\"BoxZoomTool\"},{\"attributes\":{\"bottom_units\":\"screen\",\"fill_alpha\":{\"value\":0.5},\"fill_color\":{\"value\":\"lightgrey\"},\"left_units\":\"screen\",\"level\":\"overlay\",\"line_alpha\":{\"value\":1.0},\"line_color\":{\"value\":\"black\"},\"line_dash\":[4,4],\"line_width\":{\"value\":2},\"plot\":null,\"render_mode\":\"css\",\"right_units\":\"screen\",\"top_units\":\"screen\"},\"id\":\"1657\",\"type\":\"BoxAnnotation\"},{\"attributes\":{\"days\":[1,4,7,10,13,16,19,22,25,28]},\"id\":\"1718\",\"type\":\"DaysTicker\"},{\"attributes\":{},\"id\":\"1726\",\"type\":\"Selection\"},{\"attributes\":{},\"id\":\"1635\",\"type\":\"LinearScale\"},{\"attributes\":{\"active_drag\":\"auto\",\"active_inspect\":\"auto\",\"active_multi\":null,\"active_scroll\":\"auto\",\"active_tap\":\"auto\",\"tools\":[{\"id\":\"1649\",\"type\":\"PanTool\"},{\"id\":\"1650\",\"type\":\"WheelZoomTool\"},{\"id\":\"1651\",\"type\":\"BoxZoomTool\"},{\"id\":\"1652\",\"type\":\"SaveTool\"},{\"id\":\"1653\",\"type\":\"ResetTool\"},{\"id\":\"1654\",\"type\":\"HelpTool\"}]},\"id\":\"1655\",\"type\":\"Toolbar\"},{\"attributes\":{\"base\":60,\"mantissas\":[1,2,5,10,15,20,30],\"max_interval\":1800000.0,\"min_interval\":1000.0,\"num_minor_ticks\":0},\"id\":\"1715\",\"type\":\"AdaptiveTicker\"},{\"attributes\":{},\"id\":\"1725\",\"type\":\"YearsTicker\"},{\"attributes\":{\"dimension\":1,\"grid_line_alpha\":{\"value\":0.5},\"plot\":{\"id\":\"1629\",\"subtype\":\"Figure\",\"type\":\"Plot\"},\"ticker\":{\"id\":\"1645\",\"type\":\"BasicTicker\"}},\"id\":\"1648\",\"type\":\"Grid\"},{\"attributes\":{\"callback\":null,\"data\":{\"x\":{\"__ndarray__\":\"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\",\"dtype\":\"float64\",\"shape\":[830]},\"y\":{\"__ndarray__\":\"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\",\"dtype\":\"float64\",\"shape\":[830]}},\"selected\":{\"id\":\"1726\",\"type\":\"Selection\"},\"selection_policy\":{\"id\":\"1727\",\"type\":\"UnionRenderers\"}},\"id\":\"1664\",\"type\":\"ColumnDataSource\"},{\"attributes\":{\"months\":[0,1,2,3,4,5,6,7,8,9,10,11]},\"id\":\"1721\",\"type\":\"MonthsTicker\"},{\"attributes\":{},\"id\":\"1727\",\"type\":\"UnionRenderers\"},{\"attributes\":{\"num_minor_ticks\":5,\"tickers\":[{\"id\":\"1714\",\"type\":\"AdaptiveTicker\"},{\"id\":\"1715\",\"type\":\"AdaptiveTicker\"},{\"id\":\"1716\",\"type\":\"AdaptiveTicker\"},{\"id\":\"1717\",\"type\":\"DaysTicker\"},{\"id\":\"1718\",\"type\":\"DaysTicker\"},{\"id\":\"1719\",\"type\":\"DaysTicker\"},{\"id\":\"1720\",\"type\":\"DaysTicker\"},{\"id\":\"1721\",\"type\":\"MonthsTicker\"},{\"id\":\"1722\",\"type\":\"MonthsTicker\"},{\"id\":\"1723\",\"type\":\"MonthsTicker\"},{\"id\":\"1724\",\"type\":\"MonthsTicker\"},{\"id\":\"1725\",\"type\":\"YearsTicker\"}]},\"id\":\"1640\",\"type\":\"DatetimeTicker\"},{\"attributes\":{},\"id\":\"1650\",\"type\":\"WheelZoomTool\"},{\"attributes\":{\"months\":[0,2,4,6,8,10]},\"id\":\"1722\",\"type\":\"MonthsTicker\"},{\"attributes\":{},\"id\":\"1649\",\"type\":\"PanTool\"},{\"attributes\":{\"source\":{\"id\":\"1664\",\"type\":\"ColumnDataSource\"}},\"id\":\"1668\",\"type\":\"CDSView\"},{\"attributes\":{},\"id\":\"1712\",\"type\":\"BasicTickFormatter\"},{\"attributes\":{},\"id\":\"1654\",\"type\":\"HelpTool\"},{\"attributes\":{\"base\":24,\"mantissas\":[1,2,4,6,8,12],\"max_interval\":43200000.0,\"min_interval\":3600000.0,\"num_minor_ticks\":0},\"id\":\"1716\",\"type\":\"AdaptiveTicker\"},{\"attributes\":{},\"id\":\"1653\",\"type\":\"ResetTool\"},{\"attributes\":{\"plot\":null,\"text\":\"Traditional PDSI\"},\"id\":\"1628\",\"type\":\"Title\"}],\"root_ids\":[\"1629\"]},\"title\":\"Bokeh Application\",\"version\":\"1.0.4\"}};\n",
       "  var render_items = [{\"docid\":\"626414f7-b7a9-4554-8468-684dc1ea00d8\",\"roots\":{\"1629\":\"a02ca2d4-f365-452f-a6cc-08dc2def3bec\"}}];\n",
       "  root.Bokeh.embed.embed_items_notebook(docs_json, render_items);\n",
       "\n",
       "  }\n",
       "  if (root.Bokeh !== undefined) {\n",
       "    embed_document(root);\n",
       "  } else {\n",
       "    var attempts = 0;\n",
       "    var timer = setInterval(function(root) {\n",
       "      if (root.Bokeh !== undefined) {\n",
       "        embed_document(root);\n",
       "        clearInterval(timer);\n",
       "      }\n",
       "      attempts++;\n",
       "      if (attempts > 100) {\n",
       "        console.log(\"Bokeh: ERROR: Unable to run BokehJS code because BokehJS library is missing\");\n",
       "        clearInterval(timer);\n",
       "      }\n",
       "    }, 10, root)\n",
       "  }\n",
       "})(window);"
      ],
      "application/vnd.bokehjs_exec.v0+json": ""
     },
     "metadata": {
      "application/vnd.bokehjs_exec.v0+json": {
       "id": "1629"
      }
     },
     "output_type": "display_data"
    },
    {
     "data": {
      "text/html": [
       "\n",
       "\n",
       "\n",
       "\n",
       "\n",
       "\n",
       "  <div class=\"bk-root\" id=\"a17d8bd3-8be5-4c98-a7d3-2409c094ef09\" data-root-id=\"1850\"></div>\n"
      ]
     },
     "metadata": {},
     "output_type": "display_data"
    },
    {
     "data": {
      "application/javascript": [
       "(function(root) {\n",
       "  function embed_document(root) {\n",
       "    \n",
       "  var docs_json = {\"66f5f665-cfa7-4fa8-9aa3-4f308be1a7c7\":{\"roots\":{\"references\":[{\"attributes\":{\"below\":[{\"id\":\"1860\",\"type\":\"DatetimeAxis\"}],\"left\":[{\"id\":\"1865\",\"type\":\"LinearAxis\"}],\"plot_height\":350,\"plot_width\":800,\"renderers\":[{\"id\":\"1860\",\"type\":\"DatetimeAxis\"},{\"id\":\"1864\",\"type\":\"Grid\"},{\"id\":\"1865\",\"type\":\"LinearAxis\"},{\"id\":\"1869\",\"type\":\"Grid\"},{\"id\":\"1878\",\"type\":\"BoxAnnotation\"},{\"id\":\"1888\",\"type\":\"GlyphRenderer\"}],\"title\":{\"id\":\"1849\",\"type\":\"Title\"},\"toolbar\":{\"id\":\"1876\",\"type\":\"Toolbar\"},\"x_range\":{\"id\":\"1852\",\"type\":\"DataRange1d\"},\"x_scale\":{\"id\":\"1856\",\"type\":\"LinearScale\"},\"y_range\":{\"id\":\"1854\",\"type\":\"DataRange1d\"},\"y_scale\":{\"id\":\"1858\",\"type\":\"LinearScale\"}},\"id\":\"1850\",\"subtype\":\"Figure\",\"type\":\"Plot\"},{\"attributes\":{\"months\":[0,1,2,3,4,5,6,7,8,9,10,11]},\"id\":\"1962\",\"type\":\"MonthsTicker\"},{\"attributes\":{\"months\":[0,6]},\"id\":\"1965\",\"type\":\"MonthsTicker\"},{\"attributes\":{\"base\":60,\"mantissas\":[1,2,5,10,15,20,30],\"max_interval\":1800000.0,\"min_interval\":1000.0,\"num_minor_ticks\":0},\"id\":\"1956\",\"type\":\"AdaptiveTicker\"},{\"attributes\":{},\"id\":\"1858\",\"type\":\"LinearScale\"},{\"attributes\":{},\"id\":\"1968\",\"type\":\"UnionRenderers\"},{\"attributes\":{\"axis_label\":\"Value\",\"formatter\":{\"id\":\"1953\",\"type\":\"BasicTickFormatter\"},\"plot\":{\"id\":\"1850\",\"subtype\":\"Figure\",\"type\":\"Plot\"},\"ticker\":{\"id\":\"1866\",\"type\":\"BasicTicker\"}},\"id\":\"1865\",\"type\":\"LinearAxis\"},{\"attributes\":{\"data_source\":{\"id\":\"1885\",\"type\":\"ColumnDataSource\"},\"glyph\":{\"id\":\"1886\",\"type\":\"Line\"},\"hover_glyph\":null,\"muted_glyph\":null,\"nonselection_glyph\":{\"id\":\"1887\",\"type\":\"Line\"},\"selection_glyph\":null,\"view\":{\"id\":\"1889\",\"type\":\"CDSView\"}},\"id\":\"1888\",\"type\":\"GlyphRenderer\"},{\"attributes\":{\"callback\":null},\"id\":\"1852\",\"type\":\"DataRange1d\"},{\"attributes\":{},\"id\":\"1874\",\"type\":\"ResetTool\"},{\"attributes\":{\"mantissas\":[1,2,5],\"max_interval\":500.0,\"num_minor_ticks\":0},\"id\":\"1955\",\"type\":\"AdaptiveTicker\"},{\"attributes\":{\"callback\":null},\"id\":\"1854\",\"type\":\"DataRange1d\"},{\"attributes\":{\"base\":24,\"mantissas\":[1,2,4,6,8,12],\"max_interval\":43200000.0,\"min_interval\":3600000.0,\"num_minor_ticks\":0},\"id\":\"1957\",\"type\":\"AdaptiveTicker\"},{\"attributes\":{\"days\":[1,2,3,4,5,6,7,8,9,10,11,12,13,14,15,16,17,18,19,20,21,22,23,24,25,26,27,28,29,30,31]},\"id\":\"1958\",\"type\":\"DaysTicker\"},{\"attributes\":{\"axis_label\":\"Time\",\"formatter\":{\"id\":\"1951\",\"type\":\"DatetimeTickFormatter\"},\"plot\":{\"id\":\"1850\",\"subtype\":\"Figure\",\"type\":\"Plot\"},\"ticker\":{\"id\":\"1861\",\"type\":\"DatetimeTicker\"}},\"id\":\"1860\",\"type\":\"DatetimeAxis\"},{\"attributes\":{},\"id\":\"1967\",\"type\":\"Selection\"},{\"attributes\":{},\"id\":\"1871\",\"type\":\"WheelZoomTool\"},{\"attributes\":{\"source\":{\"id\":\"1885\",\"type\":\"ColumnDataSource\"}},\"id\":\"1889\",\"type\":\"CDSView\"},{\"attributes\":{},\"id\":\"1953\",\"type\":\"BasicTickFormatter\"},{\"attributes\":{\"callback\":null,\"data\":{\"x\":{\"__ndarray__\":\"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\",\"dtype\":\"float64\",\"shape\":[830]},\"y\":{\"__ndarray__\":\"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\",\"dtype\":\"float64\",\"shape\":[830]}},\"selected\":{\"id\":\"1967\",\"type\":\"Selection\"},\"selection_policy\":{\"id\":\"1968\",\"type\":\"UnionRenderers\"}},\"id\":\"1885\",\"type\":\"ColumnDataSource\"},{\"attributes\":{},\"id\":\"1951\",\"type\":\"DatetimeTickFormatter\"},{\"attributes\":{\"days\":[1,8,15,22]},\"id\":\"1960\",\"type\":\"DaysTicker\"},{\"attributes\":{\"months\":[0,4,8]},\"id\":\"1964\",\"type\":\"MonthsTicker\"},{\"attributes\":{},\"id\":\"1866\",\"type\":\"BasicTicker\"},{\"attributes\":{\"active_drag\":\"auto\",\"active_inspect\":\"auto\",\"active_multi\":null,\"active_scroll\":\"auto\",\"active_tap\":\"auto\",\"tools\":[{\"id\":\"1870\",\"type\":\"PanTool\"},{\"id\":\"1871\",\"type\":\"WheelZoomTool\"},{\"id\":\"1872\",\"type\":\"BoxZoomTool\"},{\"id\":\"1873\",\"type\":\"SaveTool\"},{\"id\":\"1874\",\"type\":\"ResetTool\"},{\"id\":\"1875\",\"type\":\"HelpTool\"}]},\"id\":\"1876\",\"type\":\"Toolbar\"},{\"attributes\":{},\"id\":\"1966\",\"type\":\"YearsTicker\"},{\"attributes\":{},\"id\":\"1873\",\"type\":\"SaveTool\"},{\"attributes\":{\"grid_line_color\":{\"value\":null},\"plot\":{\"id\":\"1850\",\"subtype\":\"Figure\",\"type\":\"Plot\"},\"ticker\":{\"id\":\"1861\",\"type\":\"DatetimeTicker\"}},\"id\":\"1864\",\"type\":\"Grid\"},{\"attributes\":{},\"id\":\"1870\",\"type\":\"PanTool\"},{\"attributes\":{\"overlay\":{\"id\":\"1878\",\"type\":\"BoxAnnotation\"}},\"id\":\"1872\",\"type\":\"BoxZoomTool\"},{\"attributes\":{\"plot\":null,\"text\":\"PHDI\"},\"id\":\"1849\",\"type\":\"Title\"},{\"attributes\":{\"num_minor_ticks\":5,\"tickers\":[{\"id\":\"1955\",\"type\":\"AdaptiveTicker\"},{\"id\":\"1956\",\"type\":\"AdaptiveTicker\"},{\"id\":\"1957\",\"type\":\"AdaptiveTicker\"},{\"id\":\"1958\",\"type\":\"DaysTicker\"},{\"id\":\"1959\",\"type\":\"DaysTicker\"},{\"id\":\"1960\",\"type\":\"DaysTicker\"},{\"id\":\"1961\",\"type\":\"DaysTicker\"},{\"id\":\"1962\",\"type\":\"MonthsTicker\"},{\"id\":\"1963\",\"type\":\"MonthsTicker\"},{\"id\":\"1964\",\"type\":\"MonthsTicker\"},{\"id\":\"1965\",\"type\":\"MonthsTicker\"},{\"id\":\"1966\",\"type\":\"YearsTicker\"}]},\"id\":\"1861\",\"type\":\"DatetimeTicker\"},{\"attributes\":{},\"id\":\"1875\",\"type\":\"HelpTool\"},{\"attributes\":{\"months\":[0,2,4,6,8,10]},\"id\":\"1963\",\"type\":\"MonthsTicker\"},{\"attributes\":{\"line_color\":\"#1f77b4\",\"x\":{\"field\":\"x\"},\"y\":{\"field\":\"y\"}},\"id\":\"1886\",\"type\":\"Line\"},{\"attributes\":{\"bottom_units\":\"screen\",\"fill_alpha\":{\"value\":0.5},\"fill_color\":{\"value\":\"lightgrey\"},\"left_units\":\"screen\",\"level\":\"overlay\",\"line_alpha\":{\"value\":1.0},\"line_color\":{\"value\":\"black\"},\"line_dash\":[4,4],\"line_width\":{\"value\":2},\"plot\":null,\"render_mode\":\"css\",\"right_units\":\"screen\",\"top_units\":\"screen\"},\"id\":\"1878\",\"type\":\"BoxAnnotation\"},{\"attributes\":{\"line_alpha\":0.1,\"line_color\":\"#1f77b4\",\"x\":{\"field\":\"x\"},\"y\":{\"field\":\"y\"}},\"id\":\"1887\",\"type\":\"Line\"},{\"attributes\":{\"days\":[1,4,7,10,13,16,19,22,25,28]},\"id\":\"1959\",\"type\":\"DaysTicker\"},{\"attributes\":{\"days\":[1,15]},\"id\":\"1961\",\"type\":\"DaysTicker\"},{\"attributes\":{\"dimension\":1,\"grid_line_alpha\":{\"value\":0.5},\"plot\":{\"id\":\"1850\",\"subtype\":\"Figure\",\"type\":\"Plot\"},\"ticker\":{\"id\":\"1866\",\"type\":\"BasicTicker\"}},\"id\":\"1869\",\"type\":\"Grid\"},{\"attributes\":{},\"id\":\"1856\",\"type\":\"LinearScale\"}],\"root_ids\":[\"1850\"]},\"title\":\"Bokeh Application\",\"version\":\"1.0.4\"}};\n",
       "  var render_items = [{\"docid\":\"66f5f665-cfa7-4fa8-9aa3-4f308be1a7c7\",\"roots\":{\"1850\":\"a17d8bd3-8be5-4c98-a7d3-2409c094ef09\"}}];\n",
       "  root.Bokeh.embed.embed_items_notebook(docs_json, render_items);\n",
       "\n",
       "  }\n",
       "  if (root.Bokeh !== undefined) {\n",
       "    embed_document(root);\n",
       "  } else {\n",
       "    var attempts = 0;\n",
       "    var timer = setInterval(function(root) {\n",
       "      if (root.Bokeh !== undefined) {\n",
       "        embed_document(root);\n",
       "        clearInterval(timer);\n",
       "      }\n",
       "      attempts++;\n",
       "      if (attempts > 100) {\n",
       "        console.log(\"Bokeh: ERROR: Unable to run BokehJS code because BokehJS library is missing\");\n",
       "        clearInterval(timer);\n",
       "      }\n",
       "    }, 10, root)\n",
       "  }\n",
       "})(window);"
      ],
      "application/vnd.bokehjs_exec.v0+json": ""
     },
     "metadata": {
      "application/vnd.bokehjs_exec.v0+json": {
       "id": "1850"
      }
     },
     "output_type": "display_data"
    },
    {
     "data": {
      "text/html": [
       "\n",
       "\n",
       "\n",
       "\n",
       "\n",
       "\n",
       "  <div class=\"bk-root\" id=\"8d31538a-795d-4ec1-8229-ee59c5b247c4\" data-root-id=\"2091\"></div>\n"
      ]
     },
     "metadata": {},
     "output_type": "display_data"
    },
    {
     "data": {
      "application/javascript": [
       "(function(root) {\n",
       "  function embed_document(root) {\n",
       "    \n",
       "  var docs_json = {\"f475a3db-297a-434a-b9e3-6cca7f886bd2\":{\"roots\":{\"references\":[{\"attributes\":{\"below\":[{\"id\":\"2101\",\"type\":\"DatetimeAxis\"}],\"left\":[{\"id\":\"2106\",\"type\":\"LinearAxis\"}],\"plot_height\":350,\"plot_width\":800,\"renderers\":[{\"id\":\"2101\",\"type\":\"DatetimeAxis\"},{\"id\":\"2105\",\"type\":\"Grid\"},{\"id\":\"2106\",\"type\":\"LinearAxis\"},{\"id\":\"2110\",\"type\":\"Grid\"},{\"id\":\"2119\",\"type\":\"BoxAnnotation\"},{\"id\":\"2129\",\"type\":\"GlyphRenderer\"}],\"title\":{\"id\":\"2090\",\"type\":\"Title\"},\"toolbar\":{\"id\":\"2117\",\"type\":\"Toolbar\"},\"x_range\":{\"id\":\"2093\",\"type\":\"DataRange1d\"},\"x_scale\":{\"id\":\"2097\",\"type\":\"LinearScale\"},\"y_range\":{\"id\":\"2095\",\"type\":\"DataRange1d\"},\"y_scale\":{\"id\":\"2099\",\"type\":\"LinearScale\"}},\"id\":\"2091\",\"subtype\":\"Figure\",\"type\":\"Plot\"},{\"attributes\":{},\"id\":\"2116\",\"type\":\"HelpTool\"},{\"attributes\":{\"callback\":null},\"id\":\"2093\",\"type\":\"DataRange1d\"},{\"attributes\":{\"active_drag\":\"auto\",\"active_inspect\":\"auto\",\"active_multi\":null,\"active_scroll\":\"auto\",\"active_tap\":\"auto\",\"tools\":[{\"id\":\"2111\",\"type\":\"PanTool\"},{\"id\":\"2112\",\"type\":\"WheelZoomTool\"},{\"id\":\"2113\",\"type\":\"BoxZoomTool\"},{\"id\":\"2114\",\"type\":\"SaveTool\"},{\"id\":\"2115\",\"type\":\"ResetTool\"},{\"id\":\"2116\",\"type\":\"HelpTool\"}]},\"id\":\"2117\",\"type\":\"Toolbar\"},{\"attributes\":{},\"id\":\"2228\",\"type\":\"Selection\"},{\"attributes\":{},\"id\":\"2114\",\"type\":\"SaveTool\"},{\"attributes\":{\"source\":{\"id\":\"2126\",\"type\":\"ColumnDataSource\"}},\"id\":\"2130\",\"type\":\"CDSView\"},{\"attributes\":{},\"id\":\"2107\",\"type\":\"BasicTicker\"},{\"attributes\":{\"num_minor_ticks\":5,\"tickers\":[{\"id\":\"2216\",\"type\":\"AdaptiveTicker\"},{\"id\":\"2217\",\"type\":\"AdaptiveTicker\"},{\"id\":\"2218\",\"type\":\"AdaptiveTicker\"},{\"id\":\"2219\",\"type\":\"DaysTicker\"},{\"id\":\"2220\",\"type\":\"DaysTicker\"},{\"id\":\"2221\",\"type\":\"DaysTicker\"},{\"id\":\"2222\",\"type\":\"DaysTicker\"},{\"id\":\"2223\",\"type\":\"MonthsTicker\"},{\"id\":\"2224\",\"type\":\"MonthsTicker\"},{\"id\":\"2225\",\"type\":\"MonthsTicker\"},{\"id\":\"2226\",\"type\":\"MonthsTicker\"},{\"id\":\"2227\",\"type\":\"YearsTicker\"}]},\"id\":\"2102\",\"type\":\"DatetimeTicker\"},{\"attributes\":{\"bottom_units\":\"screen\",\"fill_alpha\":{\"value\":0.5},\"fill_color\":{\"value\":\"lightgrey\"},\"left_units\":\"screen\",\"level\":\"overlay\",\"line_alpha\":{\"value\":1.0},\"line_color\":{\"value\":\"black\"},\"line_dash\":[4,4],\"line_width\":{\"value\":2},\"plot\":null,\"render_mode\":\"css\",\"right_units\":\"screen\",\"top_units\":\"screen\"},\"id\":\"2119\",\"type\":\"BoxAnnotation\"},{\"attributes\":{},\"id\":\"2097\",\"type\":\"LinearScale\"},{\"attributes\":{},\"id\":\"2227\",\"type\":\"YearsTicker\"},{\"attributes\":{\"months\":[0,2,4,6,8,10]},\"id\":\"2224\",\"type\":\"MonthsTicker\"},{\"attributes\":{\"days\":[1,4,7,10,13,16,19,22,25,28]},\"id\":\"2220\",\"type\":\"DaysTicker\"},{\"attributes\":{},\"id\":\"2212\",\"type\":\"DatetimeTickFormatter\"},{\"attributes\":{},\"id\":\"2214\",\"type\":\"BasicTickFormatter\"},{\"attributes\":{\"callback\":null},\"id\":\"2095\",\"type\":\"DataRange1d\"},{\"attributes\":{\"mantissas\":[1,2,5],\"max_interval\":500.0,\"num_minor_ticks\":0},\"id\":\"2216\",\"type\":\"AdaptiveTicker\"},{\"attributes\":{\"months\":[0,1,2,3,4,5,6,7,8,9,10,11]},\"id\":\"2223\",\"type\":\"MonthsTicker\"},{\"attributes\":{\"overlay\":{\"id\":\"2119\",\"type\":\"BoxAnnotation\"}},\"id\":\"2113\",\"type\":\"BoxZoomTool\"},{\"attributes\":{\"base\":60,\"mantissas\":[1,2,5,10,15,20,30],\"max_interval\":1800000.0,\"min_interval\":1000.0,\"num_minor_ticks\":0},\"id\":\"2217\",\"type\":\"AdaptiveTicker\"},{\"attributes\":{\"axis_label\":\"Value\",\"formatter\":{\"id\":\"2214\",\"type\":\"BasicTickFormatter\"},\"plot\":{\"id\":\"2091\",\"subtype\":\"Figure\",\"type\":\"Plot\"},\"ticker\":{\"id\":\"2107\",\"type\":\"BasicTicker\"}},\"id\":\"2106\",\"type\":\"LinearAxis\"},{\"attributes\":{\"grid_line_color\":{\"value\":null},\"plot\":{\"id\":\"2091\",\"subtype\":\"Figure\",\"type\":\"Plot\"},\"ticker\":{\"id\":\"2102\",\"type\":\"DatetimeTicker\"}},\"id\":\"2105\",\"type\":\"Grid\"},{\"attributes\":{\"callback\":null,\"data\":{\"x\":{\"__ndarray__\":\"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\",\"dtype\":\"float64\",\"shape\":[830]},\"y\":{\"__ndarray__\":\"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\",\"dtype\":\"float64\",\"shape\":[830]}},\"selected\":{\"id\":\"2228\",\"type\":\"Selection\"},\"selection_policy\":{\"id\":\"2229\",\"type\":\"UnionRenderers\"}},\"id\":\"2126\",\"type\":\"ColumnDataSource\"},{\"attributes\":{\"base\":24,\"mantissas\":[1,2,4,6,8,12],\"max_interval\":43200000.0,\"min_interval\":3600000.0,\"num_minor_ticks\":0},\"id\":\"2218\",\"type\":\"AdaptiveTicker\"},{\"attributes\":{},\"id\":\"2111\",\"type\":\"PanTool\"},{\"attributes\":{\"plot\":null,\"text\":\"PMDI\"},\"id\":\"2090\",\"type\":\"Title\"},{\"attributes\":{},\"id\":\"2112\",\"type\":\"WheelZoomTool\"},{\"attributes\":{\"axis_label\":\"Time\",\"formatter\":{\"id\":\"2212\",\"type\":\"DatetimeTickFormatter\"},\"plot\":{\"id\":\"2091\",\"subtype\":\"Figure\",\"type\":\"Plot\"},\"ticker\":{\"id\":\"2102\",\"type\":\"DatetimeTicker\"}},\"id\":\"2101\",\"type\":\"DatetimeAxis\"},{\"attributes\":{\"days\":[1,2,3,4,5,6,7,8,9,10,11,12,13,14,15,16,17,18,19,20,21,22,23,24,25,26,27,28,29,30,31]},\"id\":\"2219\",\"type\":\"DaysTicker\"},{\"attributes\":{\"months\":[0,6]},\"id\":\"2226\",\"type\":\"MonthsTicker\"},{\"attributes\":{},\"id\":\"2099\",\"type\":\"LinearScale\"},{\"attributes\":{},\"id\":\"2229\",\"type\":\"UnionRenderers\"},{\"attributes\":{},\"id\":\"2115\",\"type\":\"ResetTool\"},{\"attributes\":{\"days\":[1,15]},\"id\":\"2222\",\"type\":\"DaysTicker\"},{\"attributes\":{\"line_color\":\"#1f77b4\",\"x\":{\"field\":\"x\"},\"y\":{\"field\":\"y\"}},\"id\":\"2127\",\"type\":\"Line\"},{\"attributes\":{\"data_source\":{\"id\":\"2126\",\"type\":\"ColumnDataSource\"},\"glyph\":{\"id\":\"2127\",\"type\":\"Line\"},\"hover_glyph\":null,\"muted_glyph\":null,\"nonselection_glyph\":{\"id\":\"2128\",\"type\":\"Line\"},\"selection_glyph\":null,\"view\":{\"id\":\"2130\",\"type\":\"CDSView\"}},\"id\":\"2129\",\"type\":\"GlyphRenderer\"},{\"attributes\":{\"days\":[1,8,15,22]},\"id\":\"2221\",\"type\":\"DaysTicker\"},{\"attributes\":{\"line_alpha\":0.1,\"line_color\":\"#1f77b4\",\"x\":{\"field\":\"x\"},\"y\":{\"field\":\"y\"}},\"id\":\"2128\",\"type\":\"Line\"},{\"attributes\":{\"dimension\":1,\"grid_line_alpha\":{\"value\":0.5},\"plot\":{\"id\":\"2091\",\"subtype\":\"Figure\",\"type\":\"Plot\"},\"ticker\":{\"id\":\"2107\",\"type\":\"BasicTicker\"}},\"id\":\"2110\",\"type\":\"Grid\"},{\"attributes\":{\"months\":[0,4,8]},\"id\":\"2225\",\"type\":\"MonthsTicker\"}],\"root_ids\":[\"2091\"]},\"title\":\"Bokeh Application\",\"version\":\"1.0.4\"}};\n",
       "  var render_items = [{\"docid\":\"f475a3db-297a-434a-b9e3-6cca7f886bd2\",\"roots\":{\"2091\":\"8d31538a-795d-4ec1-8229-ee59c5b247c4\"}}];\n",
       "  root.Bokeh.embed.embed_items_notebook(docs_json, render_items);\n",
       "\n",
       "  }\n",
       "  if (root.Bokeh !== undefined) {\n",
       "    embed_document(root);\n",
       "  } else {\n",
       "    var attempts = 0;\n",
       "    var timer = setInterval(function(root) {\n",
       "      if (root.Bokeh !== undefined) {\n",
       "        embed_document(root);\n",
       "        clearInterval(timer);\n",
       "      }\n",
       "      attempts++;\n",
       "      if (attempts > 100) {\n",
       "        console.log(\"Bokeh: ERROR: Unable to run BokehJS code because BokehJS library is missing\");\n",
       "        clearInterval(timer);\n",
       "      }\n",
       "    }, 10, root)\n",
       "  }\n",
       "})(window);"
      ],
      "application/vnd.bokehjs_exec.v0+json": ""
     },
     "metadata": {
      "application/vnd.bokehjs_exec.v0+json": {
       "id": "2091"
      }
     },
     "output_type": "display_data"
    },
    {
     "data": {
      "text/html": [
       "\n",
       "\n",
       "\n",
       "\n",
       "\n",
       "\n",
       "  <div class=\"bk-root\" id=\"91fd2381-17fb-44ed-bd8a-e35a883e90ea\" data-root-id=\"2352\"></div>\n"
      ]
     },
     "metadata": {},
     "output_type": "display_data"
    },
    {
     "data": {
      "application/javascript": [
       "(function(root) {\n",
       "  function embed_document(root) {\n",
       "    \n",
       "  var docs_json = {\"f8bee365-164f-452f-952d-4ad56c32d2f2\":{\"roots\":{\"references\":[{\"attributes\":{\"below\":[{\"id\":\"2362\",\"type\":\"DatetimeAxis\"}],\"left\":[{\"id\":\"2367\",\"type\":\"LinearAxis\"}],\"plot_height\":350,\"plot_width\":800,\"renderers\":[{\"id\":\"2362\",\"type\":\"DatetimeAxis\"},{\"id\":\"2366\",\"type\":\"Grid\"},{\"id\":\"2367\",\"type\":\"LinearAxis\"},{\"id\":\"2371\",\"type\":\"Grid\"},{\"id\":\"2380\",\"type\":\"BoxAnnotation\"},{\"id\":\"2390\",\"type\":\"GlyphRenderer\"}],\"title\":{\"id\":\"2351\",\"type\":\"Title\"},\"toolbar\":{\"id\":\"2378\",\"type\":\"Toolbar\"},\"x_range\":{\"id\":\"2354\",\"type\":\"DataRange1d\"},\"x_scale\":{\"id\":\"2358\",\"type\":\"LinearScale\"},\"y_range\":{\"id\":\"2356\",\"type\":\"DataRange1d\"},\"y_scale\":{\"id\":\"2360\",\"type\":\"LinearScale\"}},\"id\":\"2352\",\"subtype\":\"Figure\",\"type\":\"Plot\"},{\"attributes\":{},\"id\":\"2508\",\"type\":\"YearsTicker\"},{\"attributes\":{\"active_drag\":\"auto\",\"active_inspect\":\"auto\",\"active_multi\":null,\"active_scroll\":\"auto\",\"active_tap\":\"auto\",\"tools\":[{\"id\":\"2372\",\"type\":\"PanTool\"},{\"id\":\"2373\",\"type\":\"WheelZoomTool\"},{\"id\":\"2374\",\"type\":\"BoxZoomTool\"},{\"id\":\"2375\",\"type\":\"SaveTool\"},{\"id\":\"2376\",\"type\":\"ResetTool\"},{\"id\":\"2377\",\"type\":\"HelpTool\"}]},\"id\":\"2378\",\"type\":\"Toolbar\"},{\"attributes\":{\"days\":[1,4,7,10,13,16,19,22,25,28]},\"id\":\"2501\",\"type\":\"DaysTicker\"},{\"attributes\":{\"plot\":null,\"text\":\"Z-Index\"},\"id\":\"2351\",\"type\":\"Title\"},{\"attributes\":{\"months\":[0,6]},\"id\":\"2507\",\"type\":\"MonthsTicker\"},{\"attributes\":{\"base\":24,\"mantissas\":[1,2,4,6,8,12],\"max_interval\":43200000.0,\"min_interval\":3600000.0,\"num_minor_ticks\":0},\"id\":\"2499\",\"type\":\"AdaptiveTicker\"},{\"attributes\":{\"days\":[1,15]},\"id\":\"2503\",\"type\":\"DaysTicker\"},{\"attributes\":{},\"id\":\"2373\",\"type\":\"WheelZoomTool\"},{\"attributes\":{},\"id\":\"2377\",\"type\":\"HelpTool\"},{\"attributes\":{\"num_minor_ticks\":5,\"tickers\":[{\"id\":\"2497\",\"type\":\"AdaptiveTicker\"},{\"id\":\"2498\",\"type\":\"AdaptiveTicker\"},{\"id\":\"2499\",\"type\":\"AdaptiveTicker\"},{\"id\":\"2500\",\"type\":\"DaysTicker\"},{\"id\":\"2501\",\"type\":\"DaysTicker\"},{\"id\":\"2502\",\"type\":\"DaysTicker\"},{\"id\":\"2503\",\"type\":\"DaysTicker\"},{\"id\":\"2504\",\"type\":\"MonthsTicker\"},{\"id\":\"2505\",\"type\":\"MonthsTicker\"},{\"id\":\"2506\",\"type\":\"MonthsTicker\"},{\"id\":\"2507\",\"type\":\"MonthsTicker\"},{\"id\":\"2508\",\"type\":\"YearsTicker\"}]},\"id\":\"2363\",\"type\":\"DatetimeTicker\"},{\"attributes\":{\"data_source\":{\"id\":\"2387\",\"type\":\"ColumnDataSource\"},\"glyph\":{\"id\":\"2388\",\"type\":\"Line\"},\"hover_glyph\":null,\"muted_glyph\":null,\"nonselection_glyph\":{\"id\":\"2389\",\"type\":\"Line\"},\"selection_glyph\":null,\"view\":{\"id\":\"2391\",\"type\":\"CDSView\"}},\"id\":\"2390\",\"type\":\"GlyphRenderer\"},{\"attributes\":{},\"id\":\"2358\",\"type\":\"LinearScale\"},{\"attributes\":{\"axis_label\":\"Value\",\"formatter\":{\"id\":\"2495\",\"type\":\"BasicTickFormatter\"},\"plot\":{\"id\":\"2352\",\"subtype\":\"Figure\",\"type\":\"Plot\"},\"ticker\":{\"id\":\"2368\",\"type\":\"BasicTicker\"}},\"id\":\"2367\",\"type\":\"LinearAxis\"},{\"attributes\":{\"mantissas\":[1,2,5],\"max_interval\":500.0,\"num_minor_ticks\":0},\"id\":\"2497\",\"type\":\"AdaptiveTicker\"},{\"attributes\":{\"bottom_units\":\"screen\",\"fill_alpha\":{\"value\":0.5},\"fill_color\":{\"value\":\"lightgrey\"},\"left_units\":\"screen\",\"level\":\"overlay\",\"line_alpha\":{\"value\":1.0},\"line_color\":{\"value\":\"black\"},\"line_dash\":[4,4],\"line_width\":{\"value\":2},\"plot\":null,\"render_mode\":\"css\",\"right_units\":\"screen\",\"top_units\":\"screen\"},\"id\":\"2380\",\"type\":\"BoxAnnotation\"},{\"attributes\":{},\"id\":\"2493\",\"type\":\"DatetimeTickFormatter\"},{\"attributes\":{\"callback\":null},\"id\":\"2354\",\"type\":\"DataRange1d\"},{\"attributes\":{\"axis_label\":\"Time\",\"formatter\":{\"id\":\"2493\",\"type\":\"DatetimeTickFormatter\"},\"plot\":{\"id\":\"2352\",\"subtype\":\"Figure\",\"type\":\"Plot\"},\"ticker\":{\"id\":\"2363\",\"type\":\"DatetimeTicker\"}},\"id\":\"2362\",\"type\":\"DatetimeAxis\"},{\"attributes\":{},\"id\":\"2375\",\"type\":\"SaveTool\"},{\"attributes\":{\"line_alpha\":0.1,\"line_color\":\"#1f77b4\",\"x\":{\"field\":\"x\"},\"y\":{\"field\":\"y\"}},\"id\":\"2389\",\"type\":\"Line\"},{\"attributes\":{\"dimension\":1,\"grid_line_alpha\":{\"value\":0.5},\"plot\":{\"id\":\"2352\",\"subtype\":\"Figure\",\"type\":\"Plot\"},\"ticker\":{\"id\":\"2368\",\"type\":\"BasicTicker\"}},\"id\":\"2371\",\"type\":\"Grid\"},{\"attributes\":{\"source\":{\"id\":\"2387\",\"type\":\"ColumnDataSource\"}},\"id\":\"2391\",\"type\":\"CDSView\"},{\"attributes\":{},\"id\":\"2509\",\"type\":\"Selection\"},{\"attributes\":{\"months\":[0,2,4,6,8,10]},\"id\":\"2505\",\"type\":\"MonthsTicker\"},{\"attributes\":{},\"id\":\"2376\",\"type\":\"ResetTool\"},{\"attributes\":{\"base\":60,\"mantissas\":[1,2,5,10,15,20,30],\"max_interval\":1800000.0,\"min_interval\":1000.0,\"num_minor_ticks\":0},\"id\":\"2498\",\"type\":\"AdaptiveTicker\"},{\"attributes\":{\"grid_line_color\":{\"value\":null},\"plot\":{\"id\":\"2352\",\"subtype\":\"Figure\",\"type\":\"Plot\"},\"ticker\":{\"id\":\"2363\",\"type\":\"DatetimeTicker\"}},\"id\":\"2366\",\"type\":\"Grid\"},{\"attributes\":{\"days\":[1,2,3,4,5,6,7,8,9,10,11,12,13,14,15,16,17,18,19,20,21,22,23,24,25,26,27,28,29,30,31]},\"id\":\"2500\",\"type\":\"DaysTicker\"},{\"attributes\":{\"callback\":null},\"id\":\"2356\",\"type\":\"DataRange1d\"},{\"attributes\":{\"line_color\":\"#1f77b4\",\"x\":{\"field\":\"x\"},\"y\":{\"field\":\"y\"}},\"id\":\"2388\",\"type\":\"Line\"},{\"attributes\":{\"callback\":null,\"data\":{\"x\":{\"__ndarray__\":\"AACADiNLYsIAAIDMHDliwgAAACgoJWLCAAAAT9gRYsIAAICq4/1hwgAAgNGT6mHCAAAALZ/WYcIAAICIqsJhwgAAgK9ar2HCAAAAC2abYcIAAAAyFohhwgAAgI0hdGHCAAAA6SxgYcIAAACnJk5hwgAAgAIyOmHCAACAKeImYcIAAACF7RJhwgAAAKyd/2DCAACAB6nrYMIAAABjtNdgwgAAAIpkxGDCAACA5W+wYMIAAIAMIJ1gwgAAAGgriWDCAACAwzZ1YMIAAAC2i2JgwgAAgBGXTmDCAACAOEc7YMIAAACUUidgwgAAALsCFGDCAACAFg4AYMIAAADkMthfwgAAADKTsV/CAAAA6amJX8IAAAA3CmNfwgAAAO4gO1/CAAAApTcTX8IAAAAhK+9ewgAAANhBx17CAAAAJqKgXsIAAADduHhewgAAACsZUl7CAAAA4i8qXsIAAACZRgJewgAAAOem213CAAAAnr2zXcIAAADsHY1dwgAAAKM0ZV3CAAAAWks9XcIAAADWPhldwgAAAI1V8VzCAAAA27XKXMIAAACSzKJcwgAAAOAsfFzCAAAAl0NUXMIAAABOWixcwgAAAJy6BVzCAAAAU9HdW8IAAAChMbdbwgAAAFhIj1vCAAAAD19nW8IAAACLUkNbwgAAAEJpG1vCAAAAkMn0WsIAAABH4MxawgAAAJVAplrCAAAATFd+WsIAAAADblZawgAAAFHOL1rCAAAACOUHWsIAAABWReFZwgAAAA1cuVnCAAAAxHKRWcIAAACpHGxZwgAAAGAzRFnCAAAArpMdWcIAAABlqvVYwgAAALMKz1jCAAAAaiGnWMIAAAAhOH9YwgAAAG+YWFjCAAAAJq8wWMIAAAB0DwpYwgAAACsm4lfCAAAA4jy6V8IAAABeMJZXwgAAABVHblfCAAAAY6dHV8IAAAAavh9XwgAAAGge+VbCAAAAHzXRVsIAAADWS6lWwgAAACSsglbCAAAA28JaVsIAAAApIzRWwgAAAOA5DFbCAAAAl1DkVcIAAAATRMBVwgAAAMpamFXCAAAAGLtxVcIAAADP0UlVwgAAAB0yI1XCAAAA1Ej7VMIAAACLX9NUwgAAANm/rFTCAAAAkNaEVMIAAADeNl5UwgAAAJVNNlTCAAAATGQOVMIAAADIV+pTwgAAAH9uwlPCAAAAzc6bU8IAAACE5XNTwgAAANJFTVPCAAAAiVwlU8IAAABAc/1SwgAAAI7T1lLCAAAARequUsIAAACTSohSwgAAAEphYFLCAAAAAXg4UsIAAADmIRNSwgAAAJ0461HCAAAA65jEUcIAAACir5xRwgAAAPAPdlHCAAAApyZOUcIAAABePSZRwgAAAKyd/1DCAAAAY7TXUMIAAACxFLFQwgAAAGgriVDCAAAAH0JhUMIAAACbNT1QwgAAAFJMFVDCAAAAQFndT8IAAACuho1PwgAAAEpHQE/CAAAAuHTwTsIAAAAmoqBOwgAAAMJiU07CAAAAMJADTsIAAADMULZNwgAAADp+Zk3CAAAAqKsWTcIAAACgks5MwgAAAA7AfkzCAAAAqoAxTMIAAAAYruFLwgAAALRulEvCAAAAIpxES8IAAACQyfRKwgAAACyKp0rCAAAAmrdXSsIAAAA2eApKwgAAAKSluknCAAAAEtNqScIAAAAKuiJJwgAAAHjn0kjCAAAAFKiFSMIAAACC1TVIwgAAAB6W6EfCAAAAjMOYR8IAAAD68EhHwgAAAJax+0bCAAAABN+rRsIAAACgn15GwgAAAA7NDkbCAAAAfPq+RcIAAABGTnRFwgAAALR7JEXCAAAAUDzXRMIAAAC+aYdEwgAAAFoqOkTCAAAAyFfqQ8IAAAA2hZpDwgAAANJFTUPCAAAAQHP9QsIAAADcM7BCwgAAAEphYELCAAAAuI4QQsIAAACwdchBwgAAAB6jeEHCAAAAumMrQcIAAAAokdtAwgAAAMRRjkDCAAAAMn8+QMIAAABAWd0/wgAAAHjaQj/CAAAAVDWjPsIAAACMtgg+wgAAAGgRaT3CAAAARGzJPMIAAAA0Ojk8wgAAABCVmTvCAAAASBb/OsIAAAAkcV86wgAAAFzyxDnCAAAAOE0lOcIAAAAUqIU4wgAAAEwp6zfCAAAAKIRLN8IAAABgBbE2wgAAADxgETbCAAAAGLtxNcIAAAAIieE0wgAAAOTjQTTCAAAAHGWnM8IAAAD4vwczwgAAADBBbTLCAAAADJzNMcIAAADo9i0xwgAAACB4kzDCAAAA+KXnL8IAAABoqLIuwgAAACBecy3CAAAA2BM0LMIAAAAAYwkrwgAAALgYyinCAAAAKBuVKMIAAADg0FUnwgAAAFDTICbCAAAACInhJMIAAADAPqIjwgAAADBBbSLCAAAA6PYtIcIAAACw8vEfwgAAACBecx3CAAAAkMn0GsIAAABQAbQYwgAAAMBsNRbCAAAAoHHLE8IAAAAQ3UwRwgAAAODDxQ3CAAAAwJrICMIAAACgccsDwgAAAMD27v3BAAAAgKT088EAAAAAcJnkwQAAAABwmZTBAAAAANlP40EAAACADavyQQAAAMBfpfxBAAAAIKYmA0IAAABAzyMIQgAAAIDF9wxCAAAAUHf6EEIAAADgC3kTQgAAAAAH4xVCAAAAkJthGEIAAACwlssaQgAAAEArSh1CAAAA0L/IH0IAAAAIxAQhQgAAAFAORCJCAAAA4At5I0IAAAAoVrgkQgAAALhT7SVCAAAAAJ4sJ0IAAABI6GsoQgAAANjloClCAAAAIDDgKkIAAACwLRUsQgAAAPh3VC1CAAAAQMKTLkIAAAAYc74vQgAAALDefjBCAAAAeF0ZMUIAAACcArkxQgAAAGSBUzJCAAAAiCbzMkIAAACsy5IzQgAAAHRKLTRCAAAAmO/MNEIAAABgbmc1QgAAAIQTBzZCAAAAqLimNkIAAAC46jY3QgAAANyP1jdCAAAApA5xOEIAAADIsxA5QgAAAJAyqzlCAAAAtNdKOkIAAADYfOo6QgAAAKD7hDtCAAAAxKAkPEIAAACMH788QgAAALDEXj1CAAAA1Gn+PUIAAADkm44+QgAAAAhBLj9CAAAA0L/IP0IAAAB6MjRAQgAAAN5xgUBCAAAAcETRQEIAAAACFyFBQgAAAGZWbkFCAAAA+Ci+QUIAAABcaAtCQgAAAO46W0JCAAAAgA2rQkIAAACIJvNCQgAAABr5QkNCAAAAfjiQQ0IAAAAQC+BDQgAAAHRKLURCAAAABh19REIAAACY78xEQgAAAPwuGkVCAAAAjgFqRUIAAADyQLdFQgAAAIQTB0ZCAAAAFuZWRkIAAABMkqFGQgAAAN5k8UZCAAAAQqQ+R0IAAADUdo5HQgAAADi220dCAAAAyogrSEIAAABcW3tIQgAAAMCayEhCAAAAUm0YSUIAAAC2rGVJQgAAAEh/tUlCAAAA2lEFSkIAAADiak1KQgAAAHQ9nUpCAAAA2HzqSkIAAABqTzpLQgAAAM6Oh0tCAAAAYGHXS0IAAADyMydMQgAAAFZzdExCAAAA6EXETEIAAABMhRFNQgAAAN5XYU1CAAAAcCqxTUIAAAB4Q/lNQgAAAAoWSU5CAAAAblWWTkIAAAAAKOZOQgAAAGRnM09CAAAA9jmDT0IAAACIDNNPQgAAAPYlEFBCAAAAPw84UEIAAADxrl5QQgAAADqYhlBCAAAAg4GuUEIAAAAHjtJQQgAAAFB3+lBCAAAAAhchUUIAAABLAElRQgAAAP2fb1FCAAAARomXUUIAAACPcr9RQgAAAEES5lFCAAAAivsNUkIAAAA8mzRSQgAAAIWEXFJCAAAAzm2EUkIAAADpw6lSQgAAADKt0VJCAAAA5Ez4UkIAAAAtNiBTQgAAAN/VRlNCAAAAKL9uU0IAAABxqJZTQgAAACNIvVNCAAAAbDHlU0IAAAAe0QtUQgAAAGe6M1RCAAAAsKNbVEIAAAA0sH9UQgAAAH2Zp1RCAAAALznOVEIAAAB4IvZUQgAAACrCHFVCAAAAc6tEVUIAAAC8lGxVQgAAAG40k1VCAAAAtx27VUIAAABpveFVQgAAALKmCVZCAAAA+48xVkIAAAB/nFVWQgAAAMiFfVZCAAAAeiWkVkIAAADDDsxWQgAAAHWu8lZCAAAAvpcaV0IAAAAHgUJXQgAAALkgaVdCAAAAAgqRV0IAAAC0qbdXQgAAAP2S31dCAAAARnwHWEIAAADKiCtYQgAAABNyU1hCAAAAxRF6WEIAAAAO+6FYQgAAAMCayFhCAAAACYTwWEIAAABSbRhZQgAAAAQNP1lCAAAATfZmWUIAAAD/lY1ZQgAAAEh/tVlCAAAAkWjdWUIAAACsvgJaQgAAAPWnKlpCAAAAp0dRWkIAAADwMHlaQgAAAKLQn1pCAAAA67nHWkIAAAA0o+9aQgAAAOZCFltCAAAALyw+W0IAAADhy2RbQgAAACq1jFtCAAAAc560W0IAAAD3qthbQgAAAECUAFxCAAAA8jMnXEIAAAA7HU9cQgAAAO28dVxCAAAANqadXEIAAAB/j8VcQgAAADEv7FxCAAAAehgUXUIAAAAsuDpdQgAAAHWhYl1CAAAAvoqKXUIAAABCl65dQgAAAIuA1l1CAAAAPSD9XUIAAACGCSVeQgAAADipS15CAAAAgZJzXkIAAADKe5teQgAAAHwbwl5CAAAAxQTqXkIAAAB3pBBfQgAAAMCNOF9CAAAACXdgX0IAAACNg4RfQgAAANZsrF9CAAAAiAzTX0IAAADR9fpfQgAAgMHKEGBCAAAAZr8kYEIAAIAKtDhgQgAAgOMDTGBCAAAAiPhfYEIAAABhSHNgQgAAgAU9h2BCAAAAqjGbYEIAAIC33K1gQgAAAFzRwWBCAAAANSHVYEIAAIDZFelgQgAAgLJl/GBCAAAAV1oQYUIAAID7TiRhQgAAgNSeN2FCAAAAeZNLYUIAAABS415hQgAAgPbXcmFCAAAAm8yGYUIAAADd0phhQgAAgIHHrGFCAACAWhfAYUIAAAD/C9RhQgAAANhb52FCAACAfFD7YUIAAAAhRQ9iQgAAAPqUImJCAACAnok2YkIAAIB32UliQgAAABzOXWJCAACAwMJxYkIAAIACyYNiQgAAAKe9l2JCAAAAgA2rYkIAAIAkAr9iQgAAgP1R0mJCAAAAokbmYkIAAIBGO/piQgAAgB+LDWNCAAAAxH8hY0IAAACdzzRjQgAAgEHESGNCAAAA5rhcY0IAAAAov25jQgAAgMyzgmNCAACApQOWY0IAAABK+KljQgAAACNIvWNCAACAxzzRY0IAAABsMeVjQgAAAEWB+GNCAACA6XUMZEIAAIDCxR9kQgAAAGe6M2RCAACAC69HZEIAAAAZWlpkQgAAgL1ObmRCAACAlp6BZEIAAAA7k5VkQgAAABTjqGRCAACAuNe8ZEIAAABdzNBkQgAAADYc5GRCAACA2hD4ZEIAAICzYAtlQgAAAFhVH2VCAACA/EkzZUIAAIA+UEVlQgAAAONEWWVCAAAAvJRsZUIAAIBgiYBlQgAAgDnZk2VCAAAA3s2nZUIAAICCwrtlQgAAgFsSz2VCAAAAAAfjZUIAAADZVvZlQgAAgH1LCmZCAAAAIkAeZkIAAABkRjBmQgAAgAg7RGZCAACA4YpXZkIAAACGf2tmQgAAAF/PfmZCAACAA8SSZkIAAACouKZmQgAAAIEIumZCAACAJf3NZkIAAID+TOFmQgAAAKNB9WZCAACARzYJZ0IAAICJPBtnQgAAAC4xL2dCAAAAB4FCZ0IAAICrdVZnQgAAgITFaWdCAAAAKbp9Z0IAAIDNrpFnQgAAgKb+pGdCAAAAS/O4Z0IAAAAkQ8xnQgAAgMg34GdCAAAAbSz0Z0IAAIB61wZoQgAAAB/MGmhCAAAA+BsuaEIAAICcEEJoQgAAgHVgVWhCAAAAGlVpaEIAAIC+SX1oQgAAgJeZkGhCAAAAPI6kaEIAAAAV3rdoQgAAgLnSy2hCAAAAXsffaEIAAACgzfFoQgAAgETCBWlCAACAHRIZaUIAAADCBi1pQgAAAJtWQGlCAACAP0tUaUIAAADkP2hpQgAAAL2Pe2lCAACAYYSPaUIAAIA61KJpQgAAAN/ItmlCAACAg73KaUIAAIDFw9xpQgAAAGq48GlCAAAAQwgEakIAAIDn/BdqQgAAgMBMK2pCAAAAZUE/akIAAIAJNlNqQgAAgOKFZmpCAAAAh3p6akIAAABgyo1qQgAAgAS/oWpCAAAAqbO1akIAAADrucdqQgAAgI+u22pCAACAaP7uakIAAAAN8wJrQgAAAOZCFmtCAACAijcqa0IAAAAvLD5rQgAAAAh8UWtCAACArHBla0IAAICFwHhrQgAAACq1jGtCAACAzqmga0IAAADcVLNrQgAAgIBJx2tCAACAWZnaa0IAAAD+je5rQgAAANfdAWxCAACAe9IVbEIAAAAgxylsQgAAAPkWPWxCAACAnQtRbEIAAIB2W2RsQgAAABtQeGxCAACAv0SMbEIAAIABS55sQgAAAKY/smxCAAAAf4/FbEIAAIAjhNlsQgAAgPzT7GxCAAAAocgAbUIAAIBFvRRtQgAAgB4NKG1CAAAAwwE8bUIAAACcUU9tQgAAgEBGY21CAAAA5Tp3bUIAAAAnQYltQgAAgMs1nW1CAACApIWwbUIAAABJesRtQgAAACLK121CAACAxr7rbUIAAABrs/9tQgAAAEQDE25CAACA6PcmbkIAAIDBRzpuQgAAAGY8Tm5CAACACjFibkIAAIBMN3RuQgAAAPEriG5CAAAAynubbkIAAIBucK9uQgAAgEfAwm5CAAAA7LTWbkIAAICQqepuQgAAgGn5/W5CAAAADu4Rb0IAAADnPSVvQgAAgIsyOW9CAAAAMCdNb0IAAIA90l9vQgAAAOLGc29CAAAAuxaHb0IAAIBfC5tvQgAAgDhbrm9CAAAA3U/Cb0IAAICBRNZvQgAAgFqU6W9CAAAA/4j9b0IAAABsbAhwQgAAQL5mEnBCAACAEGEccEIAAIAxZCVwQgAAwINeL3BCAABAcAY5cEIAAIDCAENwQgAAAK+oTHBCAABAAaNWcEIAAIBTnWBwQgAAAEBFanBCAABAkj90cEIAAMB+531wQgAAANHhh3BCAABAI9yRcEIAAEBE35pwQgAAgJbZpHBCAAAAg4GucEIAAEDVe7hwQgAAwMEjwnBCAAAAFB7McEIAAEBmGNZwQgAAwFLA33BCAAAApbrpcEIAAICRYvNwQgAAwONc/XBCAAAANlcHcUIAAABXWhBxQgAAQKlUGnFCAADAlfwjcUIAAADo9i1xQgAAgNSeN3FCAADAJplBcUIAAAB5k0txQgAAgGU7VXFCAADAtzVfcUIAAECk3WhxQgAAgPbXcnFCAADASNJ8cUIAAIDPJ4ZxQgAAwCEikHFCAABADsqZcUIAAIBgxKNxQgAAAE1srXFCAABAn2a3cUIAAIDxYMFxQgAAAN4Iy3FCAABAMAPVcUIAAMAcq95xQgAAAG+l6HFCAABAwZ/ycUIAAEDiovtxQgAAgDSdBXJCAAAAIUUPckIAAEBzPxlyQgAAwF/nInJCAAAAsuEsckIAAEAE3DZyQgAAwPCDQHJCAAAAQ35KckIAAIAvJlRyQgAAwIEgXnJCAAAA1BpockIAAAD1HXFyQgAAQEcYe3JCAADAM8CEckIAAACGuo5yQgAAgHJimHJCAADAxFyickIAAAAXV6xyQgAAgAP/tXJCAADAVfm/ckIAAEBCoclyQgAAgJSb03JCAADA5pXdckIAAMAHmeZyQgAAAFqT8HJCAACARjv6ckIAAMCYNQRzQgAAQIXdDXNCAACA19cXc0IAAMAp0iFzQgAAQBZ6K3NCAACAaHQ1c0IAAABVHD9zQgAAQKcWSXNCAACA+RBTc0IAAECAZlxzQgAAgNJgZnNCAAAAvwhwc0IAAEARA3pzQgAAwP2qg3NCAAAAUKWNc0IAAECin5dzQgAAwI5HoXNCAAAA4UGrc0IAAIDN6bRzQgAAwB/kvnNCAAAAct7Ic0IAAACT4dFzQgAAQOXb23NCAADA0YPlc0IAAAAkfu9zQgAAgBAm+XNCAADAYiADdEIAAAC1Gg10QgAAgKHCFnRCAADA87wgdEIAAEDgZCp0QgAAgDJfNHRCAADAhFk+dEIAAMClXEd0QgAAAPhWUXRCAACA5P5adEIAAMA2+WR0QgAAQCOhbnRCAACAdZt4dEIAAMDHlYJ0QgAAQLQ9jHRCAACABjiWdEIAAADz3590QgAAQEXaqXRCAACAl9SzdEIAAIC417x0QgAAwArSxnRCAABA93nQdEIAAIBJdNp0QgAAADYc5HRCAABAiBbudEIAAIDaEPh0QgAAAMe4AXVCAABAGbMLdUIAAMAFWxV1QgAAAFhVH3VCAABAqk8pdUIAAAAxpTJ1QgAAQIOfPHVCAADAb0dGdUIAAADCQVB1QgAAgK7pWXVCAADAAORjdUIAAABT3m11QgAAgD+Gd3VCAADAkYCBdUIAAEB+KIt1QgAAgNAilXVCAADAIh2fdUIAAMBDIKh1QgAAAJYasnVCAACAgsK7dUIAAMDUvMV1QgAAQMFkz3VCAACAE1/ZdUIAAMBlWeN1QgAAQFIB7XVCAACApPv2dUIAAACRowB2QgAAQOOdCnZCAACANZgUdkIAAIBWmx12QgAAwKiVJ3ZCAABAlT0xdkIAAIDnNzt2QgAAANTfRHZCAABAJtpOdkIAAIB41Fh2QgAAAGV8YnZCAABAt3ZsdkIAAMCjHnZ2QgAAAPYYgHZCAABASBOKdkIAAEBpFpN2Qg==\",\"dtype\":\"float64\",\"shape\":[830]},\"y\":{\"__ndarray__\":\"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\",\"dtype\":\"float64\",\"shape\":[830]}},\"selected\":{\"id\":\"2509\",\"type\":\"Selection\"},\"selection_policy\":{\"id\":\"2510\",\"type\":\"UnionRenderers\"}},\"id\":\"2387\",\"type\":\"ColumnDataSource\"},{\"attributes\":{\"days\":[1,8,15,22]},\"id\":\"2502\",\"type\":\"DaysTicker\"},{\"attributes\":{},\"id\":\"2368\",\"type\":\"BasicTicker\"},{\"attributes\":{},\"id\":\"2360\",\"type\":\"LinearScale\"},{\"attributes\":{\"overlay\":{\"id\":\"2380\",\"type\":\"BoxAnnotation\"}},\"id\":\"2374\",\"type\":\"BoxZoomTool\"},{\"attributes\":{},\"id\":\"2495\",\"type\":\"BasicTickFormatter\"},{\"attributes\":{},\"id\":\"2372\",\"type\":\"PanTool\"},{\"attributes\":{\"months\":[0,4,8]},\"id\":\"2506\",\"type\":\"MonthsTicker\"},{\"attributes\":{},\"id\":\"2510\",\"type\":\"UnionRenderers\"},{\"attributes\":{\"months\":[0,1,2,3,4,5,6,7,8,9,10,11]},\"id\":\"2504\",\"type\":\"MonthsTicker\"}],\"root_ids\":[\"2352\"]},\"title\":\"Bokeh Application\",\"version\":\"1.0.4\"}};\n",
       "  var render_items = [{\"docid\":\"f8bee365-164f-452f-952d-4ad56c32d2f2\",\"roots\":{\"2352\":\"91fd2381-17fb-44ed-bd8a-e35a883e90ea\"}}];\n",
       "  root.Bokeh.embed.embed_items_notebook(docs_json, render_items);\n",
       "\n",
       "  }\n",
       "  if (root.Bokeh !== undefined) {\n",
       "    embed_document(root);\n",
       "  } else {\n",
       "    var attempts = 0;\n",
       "    var timer = setInterval(function(root) {\n",
       "      if (root.Bokeh !== undefined) {\n",
       "        embed_document(root);\n",
       "        clearInterval(timer);\n",
       "      }\n",
       "      attempts++;\n",
       "      if (attempts > 100) {\n",
       "        console.log(\"Bokeh: ERROR: Unable to run BokehJS code because BokehJS library is missing\");\n",
       "        clearInterval(timer);\n",
       "      }\n",
       "    }, 10, root)\n",
       "  }\n",
       "})(window);"
      ],
      "application/vnd.bokehjs_exec.v0+json": ""
     },
     "metadata": {
      "application/vnd.bokehjs_exec.v0+json": {
       "id": "2352"
      }
     },
     "output_type": "display_data"
    }
   ],
   "source": [
    "bokeh.io.output_notebook()\n",
    "titles_to_data = {\"Self-calibrated PDSI\": df[\"scpdsi\"],\n",
    "                  \"Traditional PDSI\": df[\"pdsi\"],\n",
    "                  \"PHDI\": df[\"phdi\"],\n",
    "                  \"PMDI\": df[\"pmdi\"],\n",
    "                  \"Z-Index\": df[\"zindex\"],}\n",
    "for title, data in titles_to_data.items():\n",
    "    p = figure(x_axis_type=\"datetime\", title=title, plot_height=350, plot_width=800)\n",
    "    p.xgrid.grid_line_color=None\n",
    "    p.ygrid.grid_line_alpha=0.5\n",
    "    p.xaxis.axis_label = 'Time'\n",
    "    p.yaxis.axis_label = 'Value'\n",
    "    p.line(df.index, data)\n",
    "    show(p)"
   ]
  },
  {
   "cell_type": "code",
   "execution_count": null,
   "metadata": {},
   "outputs": [],
   "source": []
  }
 ],
 "metadata": {
  "kernelspec": {
   "display_name": "Python 3",
   "language": "python",
   "name": "python3"
  },
  "language_info": {
   "codemirror_mode": {
    "name": "ipython",
    "version": 3
   },
   "file_extension": ".py",
   "mimetype": "text/x-python",
   "name": "python",
   "nbconvert_exporter": "python",
   "pygments_lexer": "ipython3",
   "version": "3.7.2"
  }
 },
 "nbformat": 4,
 "nbformat_minor": 2
}
