{
 "cells": [
  {
   "cell_type": "code",
   "execution_count": 5,
   "metadata": {},
   "outputs": [],
   "source": [
    "import numpy as np\n",
    "import pandas as pd"
   ]
  },
  {
   "cell_type": "markdown",
   "metadata": {},
   "source": [
    "Read station metadata from a comma-separated file. Columns are station ID, station name, longitude, latitude, and available water capacity."
   ]
  },
  {
   "cell_type": "code",
   "execution_count": 15,
   "metadata": {},
   "outputs": [
    {
     "name": "stdout",
     "output_type": "stream",
     "text": [
      "ID: 1012475, latitide: 48.42, AWC: 123\n"
     ]
    }
   ],
   "source": [
    "metadata = pd.read_csv(\"data/1012475.metadata\")\n",
    "#metadata.head()\n",
    "station_id = metadata[\"Station\"][0]\n",
    "lat = metadata[\"Lat\"][0]\n",
    "awc = metadata[\"AWCmm\"][0]\n",
    "print(f\"ID: {station_id}, latitide: {lat}, AWC: {awc}\")"
   ]
  },
  {
   "cell_type": "markdown",
   "metadata": {},
   "source": [
    "Read climatology data from a space-delimited file. Columns are station ID, year, month, day, tmMax, tmin, and precipitation."
   ]
  },
  {
   "cell_type": "code",
   "execution_count": 7,
   "metadata": {},
   "outputs": [
    {
     "data": {
      "text/html": [
       "<div>\n",
       "<style scoped>\n",
       "    .dataframe tbody tr th:only-of-type {\n",
       "        vertical-align: middle;\n",
       "    }\n",
       "\n",
       "    .dataframe tbody tr th {\n",
       "        vertical-align: top;\n",
       "    }\n",
       "\n",
       "    .dataframe thead th {\n",
       "        text-align: right;\n",
       "    }\n",
       "</style>\n",
       "<table border=\"1\" class=\"dataframe\">\n",
       "  <thead>\n",
       "    <tr style=\"text-align: right;\">\n",
       "      <th></th>\n",
       "      <th>0</th>\n",
       "      <th>1</th>\n",
       "      <th>2</th>\n",
       "      <th>3</th>\n",
       "      <th>4</th>\n",
       "      <th>5</th>\n",
       "      <th>6</th>\n",
       "    </tr>\n",
       "  </thead>\n",
       "  <tbody>\n",
       "    <tr>\n",
       "      <th>0</th>\n",
       "      <td>1012475</td>\n",
       "      <td>1950</td>\n",
       "      <td>1</td>\n",
       "      <td>1</td>\n",
       "      <td>-0.4</td>\n",
       "      <td>-5.4</td>\n",
       "      <td>4.6</td>\n",
       "    </tr>\n",
       "    <tr>\n",
       "      <th>1</th>\n",
       "      <td>1012475</td>\n",
       "      <td>1950</td>\n",
       "      <td>1</td>\n",
       "      <td>2</td>\n",
       "      <td>-5.4</td>\n",
       "      <td>-8.9</td>\n",
       "      <td>3.1</td>\n",
       "    </tr>\n",
       "    <tr>\n",
       "      <th>2</th>\n",
       "      <td>1012475</td>\n",
       "      <td>1950</td>\n",
       "      <td>1</td>\n",
       "      <td>3</td>\n",
       "      <td>-3.6</td>\n",
       "      <td>-9.5</td>\n",
       "      <td>5.9</td>\n",
       "    </tr>\n",
       "    <tr>\n",
       "      <th>3</th>\n",
       "      <td>1012475</td>\n",
       "      <td>1950</td>\n",
       "      <td>1</td>\n",
       "      <td>4</td>\n",
       "      <td>-1.1</td>\n",
       "      <td>-7.0</td>\n",
       "      <td>1.6</td>\n",
       "    </tr>\n",
       "    <tr>\n",
       "      <th>4</th>\n",
       "      <td>1012475</td>\n",
       "      <td>1950</td>\n",
       "      <td>1</td>\n",
       "      <td>5</td>\n",
       "      <td>2.8</td>\n",
       "      <td>-5.5</td>\n",
       "      <td>6.9</td>\n",
       "    </tr>\n",
       "  </tbody>\n",
       "</table>\n",
       "</div>"
      ],
      "text/plain": [
       "         0     1  2  3    4    5    6\n",
       "0  1012475  1950  1  1 -0.4 -5.4  4.6\n",
       "1  1012475  1950  1  2 -5.4 -8.9  3.1\n",
       "2  1012475  1950  1  3 -3.6 -9.5  5.9\n",
       "3  1012475  1950  1  4 -1.1 -7.0  1.6\n",
       "4  1012475  1950  1  5  2.8 -5.5  6.9"
      ]
     },
     "execution_count": 7,
     "metadata": {},
     "output_type": "execute_result"
    }
   ],
   "source": [
    "station_data = pd.read_csv(\"data/1012475.dat\", header=None, delim_whitespace=True)\n",
    "station_data.head()"
   ]
  },
  {
   "cell_type": "code",
   "execution_count": 11,
   "metadata": {},
   "outputs": [
    {
     "data": {
      "text/html": [
       "<div>\n",
       "<style scoped>\n",
       "    .dataframe tbody tr th:only-of-type {\n",
       "        vertical-align: middle;\n",
       "    }\n",
       "\n",
       "    .dataframe tbody tr th {\n",
       "        vertical-align: top;\n",
       "    }\n",
       "\n",
       "    .dataframe thead th {\n",
       "        text-align: right;\n",
       "    }\n",
       "</style>\n",
       "<table border=\"1\" class=\"dataframe\">\n",
       "  <thead>\n",
       "    <tr style=\"text-align: right;\">\n",
       "      <th></th>\n",
       "      <th>station_id</th>\n",
       "      <th>year</th>\n",
       "      <th>month</th>\n",
       "      <th>day</th>\n",
       "      <th>tmax</th>\n",
       "      <th>tmin</th>\n",
       "      <th>prcp</th>\n",
       "    </tr>\n",
       "  </thead>\n",
       "  <tbody>\n",
       "    <tr>\n",
       "      <th>0</th>\n",
       "      <td>1012475</td>\n",
       "      <td>1950</td>\n",
       "      <td>1</td>\n",
       "      <td>1</td>\n",
       "      <td>-0.4</td>\n",
       "      <td>-5.4</td>\n",
       "      <td>4.6</td>\n",
       "    </tr>\n",
       "    <tr>\n",
       "      <th>1</th>\n",
       "      <td>1012475</td>\n",
       "      <td>1950</td>\n",
       "      <td>1</td>\n",
       "      <td>2</td>\n",
       "      <td>-5.4</td>\n",
       "      <td>-8.9</td>\n",
       "      <td>3.1</td>\n",
       "    </tr>\n",
       "    <tr>\n",
       "      <th>2</th>\n",
       "      <td>1012475</td>\n",
       "      <td>1950</td>\n",
       "      <td>1</td>\n",
       "      <td>3</td>\n",
       "      <td>-3.6</td>\n",
       "      <td>-9.5</td>\n",
       "      <td>5.9</td>\n",
       "    </tr>\n",
       "    <tr>\n",
       "      <th>3</th>\n",
       "      <td>1012475</td>\n",
       "      <td>1950</td>\n",
       "      <td>1</td>\n",
       "      <td>4</td>\n",
       "      <td>-1.1</td>\n",
       "      <td>-7.0</td>\n",
       "      <td>1.6</td>\n",
       "    </tr>\n",
       "    <tr>\n",
       "      <th>4</th>\n",
       "      <td>1012475</td>\n",
       "      <td>1950</td>\n",
       "      <td>1</td>\n",
       "      <td>5</td>\n",
       "      <td>2.8</td>\n",
       "      <td>-5.5</td>\n",
       "      <td>6.9</td>\n",
       "    </tr>\n",
       "  </tbody>\n",
       "</table>\n",
       "</div>"
      ],
      "text/plain": [
       "   station_id  year  month  day  tmax  tmin  prcp\n",
       "0     1012475  1950      1    1  -0.4  -5.4   4.6\n",
       "1     1012475  1950      1    2  -5.4  -8.9   3.1\n",
       "2     1012475  1950      1    3  -3.6  -9.5   5.9\n",
       "3     1012475  1950      1    4  -1.1  -7.0   1.6\n",
       "4     1012475  1950      1    5   2.8  -5.5   6.9"
      ]
     },
     "execution_count": 11,
     "metadata": {},
     "output_type": "execute_result"
    }
   ],
   "source": [
    "column_names = {0: \"station_id\", 1: \"year\", 2: \"month\", 3: \"day\", 4: \"tmax\", 5: \"tmin\", 6: \"prcp\"}\n",
    "station_data.rename(column_names, axis=1, inplace=True)\n",
    "station_data.head()"
   ]
  },
  {
   "cell_type": "code",
   "execution_count": null,
   "metadata": {},
   "outputs": [],
   "source": []
  }
 ],
 "metadata": {
  "kernelspec": {
   "display_name": "Python 3",
   "language": "python",
   "name": "python3"
  },
  "language_info": {
   "codemirror_mode": {
    "name": "ipython",
    "version": 3
   },
   "file_extension": ".py",
   "mimetype": "text/x-python",
   "name": "python",
   "nbconvert_exporter": "python",
   "pygments_lexer": "ipython3",
   "version": "3.7.2"
  }
 },
 "nbformat": 4,
 "nbformat_minor": 2
}
